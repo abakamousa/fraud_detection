{
 "cells": [
  {
   "cell_type": "markdown",
   "id": "5ce7b615",
   "metadata": {
    "id": "5ce7b615"
   },
   "source": [
    "# **IEEE-CIS Fraud Detection**"
   ]
  },
  {
   "cell_type": "markdown",
   "id": "0d884d62",
   "metadata": {
    "id": "0d884d62"
   },
   "source": [
    "**Install libraries** "
   ]
  },
  {
   "cell_type": "code",
   "execution_count": 1,
   "id": "010a4975",
   "metadata": {
    "colab": {
     "base_uri": "https://localhost:8080/"
    },
    "id": "010a4975",
    "outputId": "0e894eb6-bf97-46b7-d379-70ed27bb3660"
   },
   "outputs": [
    {
     "name": "stdout",
     "output_type": "stream",
     "text": [
      "Requirement already satisfied: pyfiglet in c:\\users\\aboubakar moussa\\anaconda3\\lib\\site-packages (0.8.post1)\n",
      "Requirement already satisfied: opendatasets in c:\\users\\aboubakar moussa\\anaconda3\\lib\\site-packages (0.1.22)\n",
      "Requirement already satisfied: tqdm in c:\\users\\aboubakar moussa\\anaconda3\\lib\\site-packages (from opendatasets) (4.62.3)\n",
      "Requirement already satisfied: click in c:\\users\\aboubakar moussa\\anaconda3\\lib\\site-packages (from opendatasets) (8.0.3)\n",
      "Requirement already satisfied: kaggle in c:\\users\\aboubakar moussa\\anaconda3\\lib\\site-packages (from opendatasets) (1.5.12)\n",
      "Requirement already satisfied: colorama in c:\\users\\aboubakar moussa\\anaconda3\\lib\\site-packages (from click->opendatasets) (0.4.4)\n",
      "Requirement already satisfied: python-dateutil in c:\\users\\aboubakar moussa\\anaconda3\\lib\\site-packages (from kaggle->opendatasets) (2.8.2)\n",
      "Requirement already satisfied: urllib3 in c:\\users\\aboubakar moussa\\anaconda3\\lib\\site-packages (from kaggle->opendatasets) (1.26.7)\n",
      "Requirement already satisfied: certifi in c:\\users\\aboubakar moussa\\anaconda3\\lib\\site-packages (from kaggle->opendatasets) (2021.10.8)\n",
      "Requirement already satisfied: python-slugify in c:\\users\\aboubakar moussa\\anaconda3\\lib\\site-packages (from kaggle->opendatasets) (5.0.2)\n",
      "Requirement already satisfied: six>=1.10 in c:\\users\\aboubakar moussa\\anaconda3\\lib\\site-packages (from kaggle->opendatasets) (1.16.0)\n",
      "Requirement already satisfied: requests in c:\\users\\aboubakar moussa\\anaconda3\\lib\\site-packages (from kaggle->opendatasets) (2.26.0)\n",
      "Requirement already satisfied: text-unidecode>=1.3 in c:\\users\\aboubakar moussa\\anaconda3\\lib\\site-packages (from python-slugify->kaggle->opendatasets) (1.3)\n",
      "Requirement already satisfied: idna<4,>=2.5 in c:\\users\\aboubakar moussa\\anaconda3\\lib\\site-packages (from requests->kaggle->opendatasets) (3.2)\n",
      "Requirement already satisfied: charset-normalizer~=2.0.0 in c:\\users\\aboubakar moussa\\anaconda3\\lib\\site-packages (from requests->kaggle->opendatasets) (2.0.4)\n"
     ]
    }
   ],
   "source": [
    "!pip install pyfiglet\n",
    "!pip install opendatasets"
   ]
  },
  {
   "cell_type": "code",
   "execution_count": 2,
   "id": "HNMD3cJi8tBv",
   "metadata": {
    "colab": {
     "base_uri": "https://localhost:8080/"
    },
    "id": "HNMD3cJi8tBv",
    "outputId": "3def8982-7b2b-446b-83b3-d9210c29e6e9"
   },
   "outputs": [],
   "source": [
    "#from google.colab import drive\n",
    "#drive.mount('/content/drive')"
   ]
  },
  {
   "cell_type": "code",
   "execution_count": 3,
   "id": "4XYq0nTj9V-Q",
   "metadata": {
    "id": "4XYq0nTj9V-Q"
   },
   "outputs": [],
   "source": [
    "#import sys\n",
    "#sys.path.append('/content/drive/MyDrive/function')"
   ]
  },
  {
   "cell_type": "markdown",
   "id": "c3cf532e",
   "metadata": {
    "id": "c3cf532e"
   },
   "source": [
    "# **Importation des librairies**"
   ]
  },
  {
   "cell_type": "code",
   "execution_count": 4,
   "id": "e5f057f5",
   "metadata": {
    "id": "e5f057f5"
   },
   "outputs": [],
   "source": [
    "import numpy             as np # linear algebra\n",
    "import pandas            as pd # data processing, CSV file I/O (e.g. pd.read_csv)\n",
    "import seaborn           as sns\n",
    "import matplotlib.pyplot as plt\n",
    "import opendatasets      as od\n",
    "import functions\n",
    "import warnings\n",
    "import pyfiglet\n",
    "import gc\n",
    "\n",
    "\n",
    "from sklearn.feature_selection import SelectKBest\n",
    "from sklearn.feature_selection import f_classif\n",
    "from imblearn.over_sampling    import SMOTE\n",
    "from sklearn.preprocessing     import StandardScaler\n",
    "from sklearn.svm               import SVC\n",
    "from sklearn.linear_model      import LogisticRegression\n",
    "from sklearn.ensemble          import RandomForestClassifier\n",
    "from sklearn.model_selection   import GridSearchCV, train_test_split, StratifiedKFold, cross_val_score, KFold, cross_validate\n",
    "from sklearn.metrics           import accuracy_score\n",
    "from sklearn.preprocessing     import RobustScaler\n",
    "from sklearn.preprocessing     import LabelEncoder\n",
    "from sklearn.ensemble          import VotingClassifier\n",
    "from sklearn.ensemble          import StackingClassifier\n",
    "from sklearn                   import preprocessing\n",
    "from imblearn.metrics          import geometric_mean_score\n",
    "from imblearn.metrics          import classification_report_imbalanced\n",
    "\n"
   ]
  },
  {
   "cell_type": "code",
   "execution_count": 5,
   "id": "7adb1ee9",
   "metadata": {
    "colab": {
     "base_uri": "https://localhost:8080/"
    },
    "id": "7adb1ee9",
    "outputId": "744ae6c3-1991-4424-fc30-e9d687f49c8d"
   },
   "outputs": [
    {
     "name": "stdout",
     "output_type": "stream",
     "text": [
      " ____        _____                    _ ____               _ _      _   \n",
      "|  _ \\ _   _|  ___| __ __ _ _   _  __| |  _ \\ _ __ ___  __| (_) ___| |_ \n",
      "| |_) | | | | |_ | '__/ _` | | | |/ _` | |_) | '__/ _ \\/ _` | |/ __| __|\n",
      "|  __/| |_| |  _|| | | (_| | |_| | (_| |  __/| | |  __/ (_| | | (__| |_ \n",
      "|_|    \\__, |_|  |_|  \\__,_|\\__,_|\\__,_|_|   |_|  \\___|\\__,_|_|\\___|\\__|\n",
      "       |___/                                                            \n",
      "                     _      _     \n",
      " _ __ ___   ___   __| | ___| |___ \n",
      "| '_ ` _ \\ / _ \\ / _` |/ _ \\ / __|\n",
      "| | | | | | (_) | (_| |  __/ \\__ \\\n",
      "|_| |_| |_|\\___/ \\__,_|\\___|_|___/\n",
      "                                  \n",
      "\n"
     ]
    }
   ],
   "source": [
    "ascii_banner = pyfiglet.figlet_format(\"PyFraudPredict models\")\n",
    "print(ascii_banner)"
   ]
  },
  {
   "cell_type": "markdown",
   "id": "03e0fcf0",
   "metadata": {
    "id": "03e0fcf0"
   },
   "source": [
    "**Suppression des Warnings**"
   ]
  },
  {
   "cell_type": "code",
   "execution_count": 6,
   "id": "b288773c",
   "metadata": {
    "id": "b288773c"
   },
   "outputs": [],
   "source": [
    "warnings.simplefilter(\"ignore\")"
   ]
  },
  {
   "cell_type": "markdown",
   "id": "a22511c3",
   "metadata": {
    "id": "a22511c3"
   },
   "source": [
    "# **Récupération du dataset**"
   ]
  },
  {
   "cell_type": "code",
   "execution_count": 7,
   "id": "0e6547ba",
   "metadata": {
    "colab": {
     "base_uri": "https://localhost:8080/"
    },
    "id": "0e6547ba",
    "outputId": "e6fd6d6e-bf9e-44b0-ee3b-c9b4b7605a51"
   },
   "outputs": [
    {
     "name": "stdout",
     "output_type": "stream",
     "text": [
      "Skipping, found downloaded files in \".\\ieee-fraud-detection\" (use force=True to force download)\n"
     ]
    }
   ],
   "source": [
    "url=\"https://www.kaggle.com/c/ieee-fraud-detection/data\"\n",
    "od.download(url)"
   ]
  },
  {
   "cell_type": "markdown",
   "id": "78e0d9af",
   "metadata": {
    "id": "78e0d9af"
   },
   "source": [
    "**Chargement des différents dataset**"
   ]
  },
  {
   "cell_type": "code",
   "execution_count": 8,
   "id": "6279ea6c",
   "metadata": {
    "colab": {
     "base_uri": "https://localhost:8080/"
    },
    "id": "6279ea6c",
    "outputId": "3d826324-8257-4227-b034-486b712fc0ca"
   },
   "outputs": [
    {
     "name": "stdout",
     "output_type": "stream",
     "text": [
      "Wall time: 2min 8s\n"
     ]
    }
   ],
   "source": [
    "%%time\n",
    "sample              = pd.read_csv(\"ieee-fraud-detection/sample_submission.csv\")\n",
    "df_identity         = pd.read_csv(\"ieee-fraud-detection/train_identity.csv\")\n",
    "df_transaction      = pd.read_csv(\"ieee-fraud-detection/train_transaction.csv\")\n",
    "df_test_transaction = pd.read_csv(\"ieee-fraud-detection/test_transaction.csv\")\n",
    "df_test_identity    = pd.read_csv(\"ieee-fraud-detection/test_identity.csv\")"
   ]
  },
  {
   "cell_type": "markdown",
   "id": "Wd2TUzf1evfO",
   "metadata": {
    "id": "Wd2TUzf1evfO"
   },
   "source": [
    "**Merge train and test data**"
   ]
  },
  {
   "cell_type": "code",
   "execution_count": 9,
   "id": "YV44nUsveoBS",
   "metadata": {
    "id": "YV44nUsveoBS"
   },
   "outputs": [],
   "source": [
    "train = df_transaction.merge(df_identity, how=\"left\", on=\"TransactionID\")\n",
    "test  = df_test_transaction.merge(df_test_identity, how=\"left\", on=\"TransactionID\")"
   ]
  },
  {
   "cell_type": "markdown",
   "id": "55a22d1e",
   "metadata": {
    "id": "55a22d1e"
   },
   "source": [
    "**Reduction de la mémoire**"
   ]
  },
  {
   "cell_type": "code",
   "execution_count": 10,
   "id": "c5e34173",
   "metadata": {
    "colab": {
     "base_uri": "https://localhost:8080/"
    },
    "id": "c5e34173",
    "outputId": "ce7467b0-f852-4ee9-d075-0a446761b6de"
   },
   "outputs": [
    {
     "name": "stdout",
     "output_type": "stream",
     "text": [
      "Mem. usage decreased to  2.90 Mb (62.5% reduction)\n",
      "Mem. usage decreased to 650.48 Mb (66.8% reduction)\n",
      "Mem. usage decreased to 565.37 Mb (66.3% reduction)\n",
      "Wall time: 4min 24s\n",
      "Parser   : 183 ms\n"
     ]
    }
   ],
   "source": [
    "%%time\n",
    "sample    = functions.reduce_mem_usage(sample)\n",
    "train     = functions.reduce_mem_usage(train)\n",
    "test      = functions.reduce_mem_usage(test)"
   ]
  },
  {
   "cell_type": "code",
   "execution_count": 11,
   "id": "pTNnNFnbgolr",
   "metadata": {
    "colab": {
     "base_uri": "https://localhost:8080/"
    },
    "id": "pTNnNFnbgolr",
    "outputId": "9b856b9f-862e-42ee-8e01-565a403ac9b3"
   },
   "outputs": [
    {
     "data": {
      "text/plain": [
       "0"
      ]
     },
     "execution_count": 11,
     "metadata": {},
     "output_type": "execute_result"
    }
   ],
   "source": [
    "gc.collect()"
   ]
  },
  {
   "cell_type": "markdown",
   "id": "dc8725dd",
   "metadata": {
    "id": "dc8725dd"
   },
   "source": [
    "# **1- Analyse exploratoire**\n",
    "\n",
    "\n",
    "\n"
   ]
  },
  {
   "cell_type": "markdown",
   "id": "a2b728ca",
   "metadata": {
    "id": "a2b728ca"
   },
   "source": [
    "**Sample dataset**"
   ]
  },
  {
   "cell_type": "code",
   "execution_count": 12,
   "id": "8a0ac50c",
   "metadata": {
    "colab": {
     "base_uri": "https://localhost:8080/"
    },
    "id": "8a0ac50c",
    "outputId": "f76efe0f-becc-4c88-e74c-ee14c0c7ece2"
   },
   "outputs": [
    {
     "name": "stdout",
     "output_type": "stream",
     "text": [
      "<class 'pandas.core.frame.DataFrame'>\n",
      "RangeIndex: 506691 entries, 0 to 506690\n",
      "Data columns (total 2 columns):\n",
      " #   Column         Non-Null Count   Dtype  \n",
      "---  ------         --------------   -----  \n",
      " 0   TransactionID  506691 non-null  int32  \n",
      " 1   isFraud        506691 non-null  float16\n",
      "dtypes: float16(1), int32(1)\n",
      "memory usage: 2.9 MB\n"
     ]
    }
   ],
   "source": [
    "sample.info()\n"
   ]
  },
  {
   "cell_type": "code",
   "execution_count": 13,
   "id": "cVSIvkfvimdW",
   "metadata": {
    "colab": {
     "base_uri": "https://localhost:8080/",
     "height": 143
    },
    "id": "cVSIvkfvimdW",
    "outputId": "dd7333dc-a9a4-4ae8-c3ff-4b2c8051ac58"
   },
   "outputs": [
    {
     "data": {
      "text/html": [
       "<div>\n",
       "<style scoped>\n",
       "    .dataframe tbody tr th:only-of-type {\n",
       "        vertical-align: middle;\n",
       "    }\n",
       "\n",
       "    .dataframe tbody tr th {\n",
       "        vertical-align: top;\n",
       "    }\n",
       "\n",
       "    .dataframe thead th {\n",
       "        text-align: right;\n",
       "    }\n",
       "</style>\n",
       "<table border=\"1\" class=\"dataframe\">\n",
       "  <thead>\n",
       "    <tr style=\"text-align: right;\">\n",
       "      <th></th>\n",
       "      <th>TransactionID</th>\n",
       "      <th>isFraud</th>\n",
       "    </tr>\n",
       "  </thead>\n",
       "  <tbody>\n",
       "    <tr>\n",
       "      <th>0</th>\n",
       "      <td>3663549</td>\n",
       "      <td>0.5</td>\n",
       "    </tr>\n",
       "    <tr>\n",
       "      <th>1</th>\n",
       "      <td>3663550</td>\n",
       "      <td>0.5</td>\n",
       "    </tr>\n",
       "    <tr>\n",
       "      <th>2</th>\n",
       "      <td>3663551</td>\n",
       "      <td>0.5</td>\n",
       "    </tr>\n",
       "  </tbody>\n",
       "</table>\n",
       "</div>"
      ],
      "text/plain": [
       "   TransactionID  isFraud\n",
       "0        3663549      0.5\n",
       "1        3663550      0.5\n",
       "2        3663551      0.5"
      ]
     },
     "execution_count": 13,
     "metadata": {},
     "output_type": "execute_result"
    }
   ],
   "source": [
    "sample.head(3)"
   ]
  },
  {
   "cell_type": "code",
   "execution_count": 14,
   "id": "329d1371",
   "metadata": {
    "colab": {
     "base_uri": "https://localhost:8080/"
    },
    "id": "329d1371",
    "outputId": "0b79e3fd-7d1f-434d-9abb-ae95479a881e"
   },
   "outputs": [
    {
     "data": {
      "text/plain": [
       "array([0.5], dtype=float16)"
      ]
     },
     "execution_count": 14,
     "metadata": {},
     "output_type": "execute_result"
    }
   ],
   "source": [
    "sample['isFraud'].unique()"
   ]
  },
  {
   "cell_type": "markdown",
   "id": "488b5bfe",
   "metadata": {
    "id": "488b5bfe"
   },
   "source": [
    "**Remarque:**  La variable cible \"isFraud\" du dataset \"sample_submission\" se compose uniquement de la valeur 0.5. Ceci rend ce dataset inutilisable en dehors de la compétation kaggle."
   ]
  },
  {
   "cell_type": "markdown",
   "id": "b0f5df66",
   "metadata": {
    "id": "b0f5df66"
   },
   "source": [
    "**Train dataset**"
   ]
  },
  {
   "cell_type": "code",
   "execution_count": 15,
   "id": "ceba4653",
   "metadata": {
    "colab": {
     "base_uri": "https://localhost:8080/",
     "height": 351
    },
    "id": "ceba4653",
    "outputId": "f7188d7c-b1c8-41b2-bf5a-79b4f1226c7d"
   },
   "outputs": [
    {
     "name": "stdout",
     "output_type": "stream",
     "text": [
      "Train dataset identity\n"
     ]
    },
    {
     "data": {
      "text/html": [
       "<div>\n",
       "<style scoped>\n",
       "    .dataframe tbody tr th:only-of-type {\n",
       "        vertical-align: middle;\n",
       "    }\n",
       "\n",
       "    .dataframe tbody tr th {\n",
       "        vertical-align: top;\n",
       "    }\n",
       "\n",
       "    .dataframe thead th {\n",
       "        text-align: right;\n",
       "    }\n",
       "</style>\n",
       "<table border=\"1\" class=\"dataframe\">\n",
       "  <thead>\n",
       "    <tr style=\"text-align: right;\">\n",
       "      <th></th>\n",
       "      <th>TransactionID</th>\n",
       "      <th>isFraud</th>\n",
       "      <th>TransactionDT</th>\n",
       "      <th>TransactionAmt</th>\n",
       "      <th>ProductCD</th>\n",
       "      <th>card1</th>\n",
       "      <th>card2</th>\n",
       "      <th>card3</th>\n",
       "      <th>card4</th>\n",
       "      <th>card5</th>\n",
       "      <th>...</th>\n",
       "      <th>id_31</th>\n",
       "      <th>id_32</th>\n",
       "      <th>id_33</th>\n",
       "      <th>id_34</th>\n",
       "      <th>id_35</th>\n",
       "      <th>id_36</th>\n",
       "      <th>id_37</th>\n",
       "      <th>id_38</th>\n",
       "      <th>DeviceType</th>\n",
       "      <th>DeviceInfo</th>\n",
       "    </tr>\n",
       "  </thead>\n",
       "  <tbody>\n",
       "    <tr>\n",
       "      <th>0</th>\n",
       "      <td>2987000</td>\n",
       "      <td>0</td>\n",
       "      <td>86400</td>\n",
       "      <td>68.5</td>\n",
       "      <td>W</td>\n",
       "      <td>13926</td>\n",
       "      <td>NaN</td>\n",
       "      <td>150.0</td>\n",
       "      <td>discover</td>\n",
       "      <td>142.0</td>\n",
       "      <td>...</td>\n",
       "      <td>NaN</td>\n",
       "      <td>NaN</td>\n",
       "      <td>NaN</td>\n",
       "      <td>NaN</td>\n",
       "      <td>NaN</td>\n",
       "      <td>NaN</td>\n",
       "      <td>NaN</td>\n",
       "      <td>NaN</td>\n",
       "      <td>NaN</td>\n",
       "      <td>NaN</td>\n",
       "    </tr>\n",
       "    <tr>\n",
       "      <th>1</th>\n",
       "      <td>2987001</td>\n",
       "      <td>0</td>\n",
       "      <td>86401</td>\n",
       "      <td>29.0</td>\n",
       "      <td>W</td>\n",
       "      <td>2755</td>\n",
       "      <td>404.0</td>\n",
       "      <td>150.0</td>\n",
       "      <td>mastercard</td>\n",
       "      <td>102.0</td>\n",
       "      <td>...</td>\n",
       "      <td>NaN</td>\n",
       "      <td>NaN</td>\n",
       "      <td>NaN</td>\n",
       "      <td>NaN</td>\n",
       "      <td>NaN</td>\n",
       "      <td>NaN</td>\n",
       "      <td>NaN</td>\n",
       "      <td>NaN</td>\n",
       "      <td>NaN</td>\n",
       "      <td>NaN</td>\n",
       "    </tr>\n",
       "    <tr>\n",
       "      <th>2</th>\n",
       "      <td>2987002</td>\n",
       "      <td>0</td>\n",
       "      <td>86469</td>\n",
       "      <td>59.0</td>\n",
       "      <td>W</td>\n",
       "      <td>4663</td>\n",
       "      <td>490.0</td>\n",
       "      <td>150.0</td>\n",
       "      <td>visa</td>\n",
       "      <td>166.0</td>\n",
       "      <td>...</td>\n",
       "      <td>NaN</td>\n",
       "      <td>NaN</td>\n",
       "      <td>NaN</td>\n",
       "      <td>NaN</td>\n",
       "      <td>NaN</td>\n",
       "      <td>NaN</td>\n",
       "      <td>NaN</td>\n",
       "      <td>NaN</td>\n",
       "      <td>NaN</td>\n",
       "      <td>NaN</td>\n",
       "    </tr>\n",
       "    <tr>\n",
       "      <th>3</th>\n",
       "      <td>2987003</td>\n",
       "      <td>0</td>\n",
       "      <td>86499</td>\n",
       "      <td>50.0</td>\n",
       "      <td>W</td>\n",
       "      <td>18132</td>\n",
       "      <td>567.0</td>\n",
       "      <td>150.0</td>\n",
       "      <td>mastercard</td>\n",
       "      <td>117.0</td>\n",
       "      <td>...</td>\n",
       "      <td>NaN</td>\n",
       "      <td>NaN</td>\n",
       "      <td>NaN</td>\n",
       "      <td>NaN</td>\n",
       "      <td>NaN</td>\n",
       "      <td>NaN</td>\n",
       "      <td>NaN</td>\n",
       "      <td>NaN</td>\n",
       "      <td>NaN</td>\n",
       "      <td>NaN</td>\n",
       "    </tr>\n",
       "    <tr>\n",
       "      <th>4</th>\n",
       "      <td>2987004</td>\n",
       "      <td>0</td>\n",
       "      <td>86506</td>\n",
       "      <td>50.0</td>\n",
       "      <td>H</td>\n",
       "      <td>4497</td>\n",
       "      <td>514.0</td>\n",
       "      <td>150.0</td>\n",
       "      <td>mastercard</td>\n",
       "      <td>102.0</td>\n",
       "      <td>...</td>\n",
       "      <td>samsung browser 6.2</td>\n",
       "      <td>32.0</td>\n",
       "      <td>2220x1080</td>\n",
       "      <td>match_status:2</td>\n",
       "      <td>T</td>\n",
       "      <td>F</td>\n",
       "      <td>T</td>\n",
       "      <td>T</td>\n",
       "      <td>mobile</td>\n",
       "      <td>SAMSUNG SM-G892A Build/NRD90M</td>\n",
       "    </tr>\n",
       "  </tbody>\n",
       "</table>\n",
       "<p>5 rows × 434 columns</p>\n",
       "</div>"
      ],
      "text/plain": [
       "   TransactionID  isFraud  TransactionDT  TransactionAmt ProductCD  card1  \\\n",
       "0        2987000        0          86400            68.5         W  13926   \n",
       "1        2987001        0          86401            29.0         W   2755   \n",
       "2        2987002        0          86469            59.0         W   4663   \n",
       "3        2987003        0          86499            50.0         W  18132   \n",
       "4        2987004        0          86506            50.0         H   4497   \n",
       "\n",
       "   card2  card3       card4  card5  ...                id_31  id_32  \\\n",
       "0    NaN  150.0    discover  142.0  ...                  NaN    NaN   \n",
       "1  404.0  150.0  mastercard  102.0  ...                  NaN    NaN   \n",
       "2  490.0  150.0        visa  166.0  ...                  NaN    NaN   \n",
       "3  567.0  150.0  mastercard  117.0  ...                  NaN    NaN   \n",
       "4  514.0  150.0  mastercard  102.0  ...  samsung browser 6.2   32.0   \n",
       "\n",
       "       id_33           id_34  id_35 id_36 id_37  id_38  DeviceType  \\\n",
       "0        NaN             NaN    NaN   NaN   NaN    NaN         NaN   \n",
       "1        NaN             NaN    NaN   NaN   NaN    NaN         NaN   \n",
       "2        NaN             NaN    NaN   NaN   NaN    NaN         NaN   \n",
       "3        NaN             NaN    NaN   NaN   NaN    NaN         NaN   \n",
       "4  2220x1080  match_status:2      T     F     T      T      mobile   \n",
       "\n",
       "                      DeviceInfo  \n",
       "0                            NaN  \n",
       "1                            NaN  \n",
       "2                            NaN  \n",
       "3                            NaN  \n",
       "4  SAMSUNG SM-G892A Build/NRD90M  \n",
       "\n",
       "[5 rows x 434 columns]"
      ]
     },
     "execution_count": 15,
     "metadata": {},
     "output_type": "execute_result"
    }
   ],
   "source": [
    "print(\"Train dataset identity\")\n",
    "train.head(5)"
   ]
  },
  {
   "cell_type": "code",
   "execution_count": 16,
   "id": "tsi7AQXPi1oe",
   "metadata": {
    "colab": {
     "base_uri": "https://localhost:8080/"
    },
    "id": "tsi7AQXPi1oe",
    "outputId": "0bdc00d7-b085-42fd-de73-1344f146f158"
   },
   "outputs": [
    {
     "name": "stdout",
     "output_type": "stream",
     "text": [
      "<class 'pandas.core.frame.DataFrame'>\n",
      "Int64Index: 590540 entries, 0 to 590539\n",
      "Columns: 434 entries, TransactionID to DeviceInfo\n",
      "dtypes: float16(354), float32(45), int16(1), int32(2), int8(1), object(31)\n",
      "memory usage: 650.5+ MB\n"
     ]
    }
   ],
   "source": [
    "train.info()"
   ]
  },
  {
   "cell_type": "code",
   "execution_count": 17,
   "id": "9206a9a0",
   "metadata": {
    "colab": {
     "base_uri": "https://localhost:8080/",
     "height": 488
    },
    "id": "9206a9a0",
    "outputId": "3896257a-0c34-4f46-d926-f369158352c1"
   },
   "outputs": [
    {
     "data": {
      "text/html": [
       "<div>\n",
       "<style scoped>\n",
       "    .dataframe tbody tr th:only-of-type {\n",
       "        vertical-align: middle;\n",
       "    }\n",
       "\n",
       "    .dataframe tbody tr th {\n",
       "        vertical-align: top;\n",
       "    }\n",
       "\n",
       "    .dataframe thead th {\n",
       "        text-align: right;\n",
       "    }\n",
       "</style>\n",
       "<table border=\"1\" class=\"dataframe\">\n",
       "  <thead>\n",
       "    <tr style=\"text-align: right;\">\n",
       "      <th></th>\n",
       "      <th>TransactionID</th>\n",
       "      <th>isFraud</th>\n",
       "      <th>TransactionDT</th>\n",
       "      <th>TransactionAmt</th>\n",
       "      <th>ProductCD</th>\n",
       "      <th>card1</th>\n",
       "      <th>card2</th>\n",
       "      <th>card3</th>\n",
       "      <th>card4</th>\n",
       "      <th>card5</th>\n",
       "      <th>...</th>\n",
       "      <th>id_31</th>\n",
       "      <th>id_32</th>\n",
       "      <th>id_33</th>\n",
       "      <th>id_34</th>\n",
       "      <th>id_35</th>\n",
       "      <th>id_36</th>\n",
       "      <th>id_37</th>\n",
       "      <th>id_38</th>\n",
       "      <th>DeviceType</th>\n",
       "      <th>DeviceInfo</th>\n",
       "    </tr>\n",
       "  </thead>\n",
       "  <tbody>\n",
       "    <tr>\n",
       "      <th>count</th>\n",
       "      <td>5.905400e+05</td>\n",
       "      <td>590540.000000</td>\n",
       "      <td>5.905400e+05</td>\n",
       "      <td>590540.000000</td>\n",
       "      <td>590540</td>\n",
       "      <td>590540.000000</td>\n",
       "      <td>581607.0</td>\n",
       "      <td>588975.0</td>\n",
       "      <td>588963</td>\n",
       "      <td>586281.0</td>\n",
       "      <td>...</td>\n",
       "      <td>140282</td>\n",
       "      <td>77586.0</td>\n",
       "      <td>73289</td>\n",
       "      <td>77805</td>\n",
       "      <td>140985</td>\n",
       "      <td>140985</td>\n",
       "      <td>140985</td>\n",
       "      <td>140985</td>\n",
       "      <td>140810</td>\n",
       "      <td>118666</td>\n",
       "    </tr>\n",
       "    <tr>\n",
       "      <th>unique</th>\n",
       "      <td>NaN</td>\n",
       "      <td>NaN</td>\n",
       "      <td>NaN</td>\n",
       "      <td>NaN</td>\n",
       "      <td>5</td>\n",
       "      <td>NaN</td>\n",
       "      <td>NaN</td>\n",
       "      <td>NaN</td>\n",
       "      <td>4</td>\n",
       "      <td>NaN</td>\n",
       "      <td>...</td>\n",
       "      <td>130</td>\n",
       "      <td>NaN</td>\n",
       "      <td>260</td>\n",
       "      <td>4</td>\n",
       "      <td>2</td>\n",
       "      <td>2</td>\n",
       "      <td>2</td>\n",
       "      <td>2</td>\n",
       "      <td>2</td>\n",
       "      <td>1786</td>\n",
       "    </tr>\n",
       "    <tr>\n",
       "      <th>top</th>\n",
       "      <td>NaN</td>\n",
       "      <td>NaN</td>\n",
       "      <td>NaN</td>\n",
       "      <td>NaN</td>\n",
       "      <td>W</td>\n",
       "      <td>NaN</td>\n",
       "      <td>NaN</td>\n",
       "      <td>NaN</td>\n",
       "      <td>visa</td>\n",
       "      <td>NaN</td>\n",
       "      <td>...</td>\n",
       "      <td>chrome 63.0</td>\n",
       "      <td>NaN</td>\n",
       "      <td>1920x1080</td>\n",
       "      <td>match_status:2</td>\n",
       "      <td>T</td>\n",
       "      <td>F</td>\n",
       "      <td>T</td>\n",
       "      <td>F</td>\n",
       "      <td>desktop</td>\n",
       "      <td>Windows</td>\n",
       "    </tr>\n",
       "    <tr>\n",
       "      <th>freq</th>\n",
       "      <td>NaN</td>\n",
       "      <td>NaN</td>\n",
       "      <td>NaN</td>\n",
       "      <td>NaN</td>\n",
       "      <td>439670</td>\n",
       "      <td>NaN</td>\n",
       "      <td>NaN</td>\n",
       "      <td>NaN</td>\n",
       "      <td>384767</td>\n",
       "      <td>NaN</td>\n",
       "      <td>...</td>\n",
       "      <td>22000</td>\n",
       "      <td>NaN</td>\n",
       "      <td>16874</td>\n",
       "      <td>60011</td>\n",
       "      <td>77814</td>\n",
       "      <td>134066</td>\n",
       "      <td>110452</td>\n",
       "      <td>73922</td>\n",
       "      <td>85165</td>\n",
       "      <td>47722</td>\n",
       "    </tr>\n",
       "    <tr>\n",
       "      <th>mean</th>\n",
       "      <td>3.282270e+06</td>\n",
       "      <td>0.034990</td>\n",
       "      <td>7.372311e+06</td>\n",
       "      <td>NaN</td>\n",
       "      <td>NaN</td>\n",
       "      <td>9898.734658</td>\n",
       "      <td>NaN</td>\n",
       "      <td>NaN</td>\n",
       "      <td>NaN</td>\n",
       "      <td>NaN</td>\n",
       "      <td>...</td>\n",
       "      <td>NaN</td>\n",
       "      <td>NaN</td>\n",
       "      <td>NaN</td>\n",
       "      <td>NaN</td>\n",
       "      <td>NaN</td>\n",
       "      <td>NaN</td>\n",
       "      <td>NaN</td>\n",
       "      <td>NaN</td>\n",
       "      <td>NaN</td>\n",
       "      <td>NaN</td>\n",
       "    </tr>\n",
       "    <tr>\n",
       "      <th>std</th>\n",
       "      <td>1.704744e+05</td>\n",
       "      <td>0.183755</td>\n",
       "      <td>4.617224e+06</td>\n",
       "      <td>NaN</td>\n",
       "      <td>NaN</td>\n",
       "      <td>4901.170153</td>\n",
       "      <td>NaN</td>\n",
       "      <td>0.0</td>\n",
       "      <td>NaN</td>\n",
       "      <td>0.0</td>\n",
       "      <td>...</td>\n",
       "      <td>NaN</td>\n",
       "      <td>0.0</td>\n",
       "      <td>NaN</td>\n",
       "      <td>NaN</td>\n",
       "      <td>NaN</td>\n",
       "      <td>NaN</td>\n",
       "      <td>NaN</td>\n",
       "      <td>NaN</td>\n",
       "      <td>NaN</td>\n",
       "      <td>NaN</td>\n",
       "    </tr>\n",
       "    <tr>\n",
       "      <th>min</th>\n",
       "      <td>2.987000e+06</td>\n",
       "      <td>0.000000</td>\n",
       "      <td>8.640000e+04</td>\n",
       "      <td>0.250977</td>\n",
       "      <td>NaN</td>\n",
       "      <td>1000.000000</td>\n",
       "      <td>100.0</td>\n",
       "      <td>100.0</td>\n",
       "      <td>NaN</td>\n",
       "      <td>100.0</td>\n",
       "      <td>...</td>\n",
       "      <td>NaN</td>\n",
       "      <td>0.0</td>\n",
       "      <td>NaN</td>\n",
       "      <td>NaN</td>\n",
       "      <td>NaN</td>\n",
       "      <td>NaN</td>\n",
       "      <td>NaN</td>\n",
       "      <td>NaN</td>\n",
       "      <td>NaN</td>\n",
       "      <td>NaN</td>\n",
       "    </tr>\n",
       "    <tr>\n",
       "      <th>25%</th>\n",
       "      <td>3.134635e+06</td>\n",
       "      <td>0.000000</td>\n",
       "      <td>3.027058e+06</td>\n",
       "      <td>43.312500</td>\n",
       "      <td>NaN</td>\n",
       "      <td>6019.000000</td>\n",
       "      <td>214.0</td>\n",
       "      <td>150.0</td>\n",
       "      <td>NaN</td>\n",
       "      <td>166.0</td>\n",
       "      <td>...</td>\n",
       "      <td>NaN</td>\n",
       "      <td>24.0</td>\n",
       "      <td>NaN</td>\n",
       "      <td>NaN</td>\n",
       "      <td>NaN</td>\n",
       "      <td>NaN</td>\n",
       "      <td>NaN</td>\n",
       "      <td>NaN</td>\n",
       "      <td>NaN</td>\n",
       "      <td>NaN</td>\n",
       "    </tr>\n",
       "    <tr>\n",
       "      <th>50%</th>\n",
       "      <td>3.282270e+06</td>\n",
       "      <td>0.000000</td>\n",
       "      <td>7.306528e+06</td>\n",
       "      <td>68.750000</td>\n",
       "      <td>NaN</td>\n",
       "      <td>9678.000000</td>\n",
       "      <td>361.0</td>\n",
       "      <td>150.0</td>\n",
       "      <td>NaN</td>\n",
       "      <td>226.0</td>\n",
       "      <td>...</td>\n",
       "      <td>NaN</td>\n",
       "      <td>24.0</td>\n",
       "      <td>NaN</td>\n",
       "      <td>NaN</td>\n",
       "      <td>NaN</td>\n",
       "      <td>NaN</td>\n",
       "      <td>NaN</td>\n",
       "      <td>NaN</td>\n",
       "      <td>NaN</td>\n",
       "      <td>NaN</td>\n",
       "    </tr>\n",
       "    <tr>\n",
       "      <th>75%</th>\n",
       "      <td>3.429904e+06</td>\n",
       "      <td>0.000000</td>\n",
       "      <td>1.124662e+07</td>\n",
       "      <td>125.000000</td>\n",
       "      <td>NaN</td>\n",
       "      <td>14184.000000</td>\n",
       "      <td>512.0</td>\n",
       "      <td>150.0</td>\n",
       "      <td>NaN</td>\n",
       "      <td>226.0</td>\n",
       "      <td>...</td>\n",
       "      <td>NaN</td>\n",
       "      <td>32.0</td>\n",
       "      <td>NaN</td>\n",
       "      <td>NaN</td>\n",
       "      <td>NaN</td>\n",
       "      <td>NaN</td>\n",
       "      <td>NaN</td>\n",
       "      <td>NaN</td>\n",
       "      <td>NaN</td>\n",
       "      <td>NaN</td>\n",
       "    </tr>\n",
       "    <tr>\n",
       "      <th>max</th>\n",
       "      <td>3.577539e+06</td>\n",
       "      <td>1.000000</td>\n",
       "      <td>1.581113e+07</td>\n",
       "      <td>31936.000000</td>\n",
       "      <td>NaN</td>\n",
       "      <td>18396.000000</td>\n",
       "      <td>600.0</td>\n",
       "      <td>231.0</td>\n",
       "      <td>NaN</td>\n",
       "      <td>237.0</td>\n",
       "      <td>...</td>\n",
       "      <td>NaN</td>\n",
       "      <td>32.0</td>\n",
       "      <td>NaN</td>\n",
       "      <td>NaN</td>\n",
       "      <td>NaN</td>\n",
       "      <td>NaN</td>\n",
       "      <td>NaN</td>\n",
       "      <td>NaN</td>\n",
       "      <td>NaN</td>\n",
       "      <td>NaN</td>\n",
       "    </tr>\n",
       "  </tbody>\n",
       "</table>\n",
       "<p>11 rows × 434 columns</p>\n",
       "</div>"
      ],
      "text/plain": [
       "        TransactionID        isFraud  TransactionDT  TransactionAmt ProductCD  \\\n",
       "count    5.905400e+05  590540.000000   5.905400e+05   590540.000000    590540   \n",
       "unique            NaN            NaN            NaN             NaN         5   \n",
       "top               NaN            NaN            NaN             NaN         W   \n",
       "freq              NaN            NaN            NaN             NaN    439670   \n",
       "mean     3.282270e+06       0.034990   7.372311e+06             NaN       NaN   \n",
       "std      1.704744e+05       0.183755   4.617224e+06             NaN       NaN   \n",
       "min      2.987000e+06       0.000000   8.640000e+04        0.250977       NaN   \n",
       "25%      3.134635e+06       0.000000   3.027058e+06       43.312500       NaN   \n",
       "50%      3.282270e+06       0.000000   7.306528e+06       68.750000       NaN   \n",
       "75%      3.429904e+06       0.000000   1.124662e+07      125.000000       NaN   \n",
       "max      3.577539e+06       1.000000   1.581113e+07    31936.000000       NaN   \n",
       "\n",
       "                card1     card2     card3   card4     card5  ...        id_31  \\\n",
       "count   590540.000000  581607.0  588975.0  588963  586281.0  ...       140282   \n",
       "unique            NaN       NaN       NaN       4       NaN  ...          130   \n",
       "top               NaN       NaN       NaN    visa       NaN  ...  chrome 63.0   \n",
       "freq              NaN       NaN       NaN  384767       NaN  ...        22000   \n",
       "mean      9898.734658       NaN       NaN     NaN       NaN  ...          NaN   \n",
       "std       4901.170153       NaN       0.0     NaN       0.0  ...          NaN   \n",
       "min       1000.000000     100.0     100.0     NaN     100.0  ...          NaN   \n",
       "25%       6019.000000     214.0     150.0     NaN     166.0  ...          NaN   \n",
       "50%       9678.000000     361.0     150.0     NaN     226.0  ...          NaN   \n",
       "75%      14184.000000     512.0     150.0     NaN     226.0  ...          NaN   \n",
       "max      18396.000000     600.0     231.0     NaN     237.0  ...          NaN   \n",
       "\n",
       "          id_32      id_33           id_34   id_35   id_36   id_37   id_38  \\\n",
       "count   77586.0      73289           77805  140985  140985  140985  140985   \n",
       "unique      NaN        260               4       2       2       2       2   \n",
       "top         NaN  1920x1080  match_status:2       T       F       T       F   \n",
       "freq        NaN      16874           60011   77814  134066  110452   73922   \n",
       "mean        NaN        NaN             NaN     NaN     NaN     NaN     NaN   \n",
       "std         0.0        NaN             NaN     NaN     NaN     NaN     NaN   \n",
       "min         0.0        NaN             NaN     NaN     NaN     NaN     NaN   \n",
       "25%        24.0        NaN             NaN     NaN     NaN     NaN     NaN   \n",
       "50%        24.0        NaN             NaN     NaN     NaN     NaN     NaN   \n",
       "75%        32.0        NaN             NaN     NaN     NaN     NaN     NaN   \n",
       "max        32.0        NaN             NaN     NaN     NaN     NaN     NaN   \n",
       "\n",
       "        DeviceType  DeviceInfo  \n",
       "count       140810      118666  \n",
       "unique           2        1786  \n",
       "top        desktop     Windows  \n",
       "freq         85165       47722  \n",
       "mean           NaN         NaN  \n",
       "std            NaN         NaN  \n",
       "min            NaN         NaN  \n",
       "25%            NaN         NaN  \n",
       "50%            NaN         NaN  \n",
       "75%            NaN         NaN  \n",
       "max            NaN         NaN  \n",
       "\n",
       "[11 rows x 434 columns]"
      ]
     },
     "execution_count": 17,
     "metadata": {},
     "output_type": "execute_result"
    }
   ],
   "source": [
    "train.describe(include=\"all\")"
   ]
  },
  {
   "cell_type": "code",
   "execution_count": 18,
   "id": "nYRtLDN1kPRR",
   "metadata": {
    "colab": {
     "base_uri": "https://localhost:8080/"
    },
    "id": "nYRtLDN1kPRR",
    "outputId": "0a9b0b58-988e-49fa-c282-ccedf13f90cb"
   },
   "outputs": [
    {
     "data": {
      "text/plain": [
       "(590540, 434)"
      ]
     },
     "execution_count": 18,
     "metadata": {},
     "output_type": "execute_result"
    }
   ],
   "source": [
    "train.shape"
   ]
  },
  {
   "cell_type": "code",
   "execution_count": 19,
   "id": "0d007694",
   "metadata": {
    "colab": {
     "base_uri": "https://localhost:8080/"
    },
    "id": "0d007694",
    "outputId": "842b92d6-b1c1-4aa9-9f38-a406a9c04c0e"
   },
   "outputs": [
    {
     "name": "stdout",
     "output_type": "stream",
     "text": [
      "Nombre d'observation ayant des valeurs manquantes:  590540\n"
     ]
    }
   ],
   "source": [
    "print(\"Nombre d'observation ayant des valeurs manquantes: \", train.isnull().any(axis = 1).sum())"
   ]
  },
  {
   "cell_type": "markdown",
   "id": "wsOCPy9qkTtq",
   "metadata": {
    "id": "wsOCPy9qkTtq"
   },
   "source": [
    "**Remarque:** Chaque observation contient au moins une valeur manquante"
   ]
  },
  {
   "cell_type": "code",
   "execution_count": 20,
   "id": "a4sJsFU8kKIu",
   "metadata": {
    "colab": {
     "base_uri": "https://localhost:8080/"
    },
    "id": "a4sJsFU8kKIu",
    "outputId": "025edd9f-2d78-43a1-98ae-e4cf2ec1bb4e"
   },
   "outputs": [
    {
     "name": "stdout",
     "output_type": "stream",
     "text": [
      "Nombre de features ayant des valeurs manquantes:  414\n"
     ]
    }
   ],
   "source": [
    "print(\"Nombre de features ayant des valeurs manquantes: \", train.isnull().any(axis = 0).sum())"
   ]
  },
  {
   "cell_type": "code",
   "execution_count": 21,
   "id": "c03df343",
   "metadata": {
    "colab": {
     "base_uri": "https://localhost:8080/",
     "height": 1000
    },
    "id": "c03df343",
    "outputId": "d59b86f3-8e73-41bc-b6de-0a0f50450675",
    "scrolled": false
   },
   "outputs": [
    {
     "data": {
      "image/png": "[encoded data removed]",
      "text/plain": [
       "<Figure size 1440x6480 with 1 Axes>"
      ]
     },
     "metadata": {
      "needs_background": "light"
     },
     "output_type": "display_data"
    }
   ],
   "source": [
    "plot_width, plot_height = (20,90)\n",
    "plt.rcParams['figure.figsize'] = (plot_width,plot_height)\n",
    "functions.plot_nas(train)"
   ]
  },
  {
   "cell_type": "markdown",
   "id": "t-9MtvXap4lS",
   "metadata": {
    "id": "t-9MtvXap4lS"
   },
   "source": [
    "**Elimination des features ayant plus de 75% de valeurs manquantes**"
   ]
  },
  {
   "cell_type": "code",
   "execution_count": 22,
   "id": "v-NI7a5zp0T1",
   "metadata": {
    "id": "v-NI7a5zp0T1"
   },
   "outputs": [],
   "source": [
    "treshold = 75.0\n",
    "min_count =  int(((100-treshold)/100)*train.shape[0] + 1)\n",
    "train = train.dropna( axis=1, \n",
    "                thresh=min_count)"
   ]
  },
  {
   "cell_type": "code",
   "execution_count": 23,
   "id": "ho7tNcBPqzqK",
   "metadata": {
    "colab": {
     "base_uri": "https://localhost:8080/"
    },
    "id": "ho7tNcBPqzqK",
    "outputId": "8529cd50-ae5f-448a-f1fc-7ae58917b8ee"
   },
   "outputs": [
    {
     "name": "stdout",
     "output_type": "stream",
     "text": [
      "Nombre de valeurs manquantes dans la train dataset:  16088043\n"
     ]
    }
   ],
   "source": [
    "print(\"Nombre de valeurs manquantes dans la train dataset: \", train.isnull().sum().sum())"
   ]
  },
  {
   "cell_type": "markdown",
   "id": "g0T307tkr2NX",
   "metadata": {
    "id": "g0T307tkr2NX"
   },
   "source": [
    "**Imputation des valeurs manquantes**"
   ]
  },
  {
   "cell_type": "code",
   "execution_count": 24,
   "id": "8gFvw8m5qz-C",
   "metadata": {
    "colab": {
     "base_uri": "https://localhost:8080/"
    },
    "id": "8gFvw8m5qz-C",
    "outputId": "28bcd781-8082-4dba-adac-667759f8d5f3"
   },
   "outputs": [
    {
     "name": "stdout",
     "output_type": "stream",
     "text": [
      "Nombre de valeur manquantes après l'imputation:  0\n",
      "Wall time: 2min 50s\n"
     ]
    }
   ],
   "source": [
    "%%time\n",
    "train = functions.fill_miss_val(train)"
   ]
  },
  {
   "cell_type": "code",
   "execution_count": 25,
   "id": "2_r7FQTlshGJ",
   "metadata": {
    "colab": {
     "base_uri": "https://localhost:8080/"
    },
    "id": "2_r7FQTlshGJ",
    "outputId": "f907c430-eecf-4b4c-b1a8-0cf7952a5a65"
   },
   "outputs": [
    {
     "data": {
      "text/plain": [
       "58363"
      ]
     },
     "execution_count": 25,
     "metadata": {},
     "output_type": "execute_result"
    }
   ],
   "source": [
    "gc.collect()"
   ]
  },
  {
   "cell_type": "code",
   "execution_count": 26,
   "id": "m1OPj8yYtb5_",
   "metadata": {
    "colab": {
     "base_uri": "https://localhost:8080/",
     "height": 299
    },
    "id": "m1OPj8yYtb5_",
    "outputId": "43544e80-2395-4f72-acea-784005c4b479"
   },
   "outputs": [
    {
     "data": {
      "text/html": [
       "<div>\n",
       "<style scoped>\n",
       "    .dataframe tbody tr th:only-of-type {\n",
       "        vertical-align: middle;\n",
       "    }\n",
       "\n",
       "    .dataframe tbody tr th {\n",
       "        vertical-align: top;\n",
       "    }\n",
       "\n",
       "    .dataframe thead th {\n",
       "        text-align: right;\n",
       "    }\n",
       "</style>\n",
       "<table border=\"1\" class=\"dataframe\">\n",
       "  <thead>\n",
       "    <tr style=\"text-align: right;\">\n",
       "      <th></th>\n",
       "      <th>TransactionID</th>\n",
       "      <th>isFraud</th>\n",
       "      <th>TransactionDT</th>\n",
       "      <th>TransactionAmt</th>\n",
       "      <th>ProductCD</th>\n",
       "      <th>card1</th>\n",
       "      <th>card2</th>\n",
       "      <th>card3</th>\n",
       "      <th>card4</th>\n",
       "      <th>card5</th>\n",
       "      <th>...</th>\n",
       "      <th>V312</th>\n",
       "      <th>V313</th>\n",
       "      <th>V314</th>\n",
       "      <th>V315</th>\n",
       "      <th>V316</th>\n",
       "      <th>V317</th>\n",
       "      <th>V318</th>\n",
       "      <th>V319</th>\n",
       "      <th>V320</th>\n",
       "      <th>V321</th>\n",
       "    </tr>\n",
       "  </thead>\n",
       "  <tbody>\n",
       "    <tr>\n",
       "      <th>0</th>\n",
       "      <td>2987000</td>\n",
       "      <td>0</td>\n",
       "      <td>86400</td>\n",
       "      <td>68.5</td>\n",
       "      <td>W</td>\n",
       "      <td>13926</td>\n",
       "      <td>0.0</td>\n",
       "      <td>150.0</td>\n",
       "      <td>discover</td>\n",
       "      <td>142.0</td>\n",
       "      <td>...</td>\n",
       "      <td>0.0</td>\n",
       "      <td>0.0</td>\n",
       "      <td>0.0</td>\n",
       "      <td>0.0</td>\n",
       "      <td>0.0</td>\n",
       "      <td>117.0</td>\n",
       "      <td>0.0</td>\n",
       "      <td>0.0</td>\n",
       "      <td>0.0</td>\n",
       "      <td>0.0</td>\n",
       "    </tr>\n",
       "    <tr>\n",
       "      <th>1</th>\n",
       "      <td>2987001</td>\n",
       "      <td>0</td>\n",
       "      <td>86401</td>\n",
       "      <td>29.0</td>\n",
       "      <td>W</td>\n",
       "      <td>2755</td>\n",
       "      <td>404.0</td>\n",
       "      <td>150.0</td>\n",
       "      <td>mastercard</td>\n",
       "      <td>102.0</td>\n",
       "      <td>...</td>\n",
       "      <td>0.0</td>\n",
       "      <td>0.0</td>\n",
       "      <td>0.0</td>\n",
       "      <td>0.0</td>\n",
       "      <td>0.0</td>\n",
       "      <td>0.0</td>\n",
       "      <td>0.0</td>\n",
       "      <td>0.0</td>\n",
       "      <td>0.0</td>\n",
       "      <td>0.0</td>\n",
       "    </tr>\n",
       "    <tr>\n",
       "      <th>2</th>\n",
       "      <td>2987002</td>\n",
       "      <td>0</td>\n",
       "      <td>86469</td>\n",
       "      <td>59.0</td>\n",
       "      <td>W</td>\n",
       "      <td>4663</td>\n",
       "      <td>490.0</td>\n",
       "      <td>150.0</td>\n",
       "      <td>visa</td>\n",
       "      <td>166.0</td>\n",
       "      <td>...</td>\n",
       "      <td>0.0</td>\n",
       "      <td>0.0</td>\n",
       "      <td>0.0</td>\n",
       "      <td>0.0</td>\n",
       "      <td>0.0</td>\n",
       "      <td>0.0</td>\n",
       "      <td>0.0</td>\n",
       "      <td>0.0</td>\n",
       "      <td>0.0</td>\n",
       "      <td>0.0</td>\n",
       "    </tr>\n",
       "    <tr>\n",
       "      <th>3</th>\n",
       "      <td>2987003</td>\n",
       "      <td>0</td>\n",
       "      <td>86499</td>\n",
       "      <td>50.0</td>\n",
       "      <td>W</td>\n",
       "      <td>18132</td>\n",
       "      <td>567.0</td>\n",
       "      <td>150.0</td>\n",
       "      <td>mastercard</td>\n",
       "      <td>117.0</td>\n",
       "      <td>...</td>\n",
       "      <td>135.0</td>\n",
       "      <td>0.0</td>\n",
       "      <td>0.0</td>\n",
       "      <td>0.0</td>\n",
       "      <td>50.0</td>\n",
       "      <td>1404.0</td>\n",
       "      <td>790.0</td>\n",
       "      <td>0.0</td>\n",
       "      <td>0.0</td>\n",
       "      <td>0.0</td>\n",
       "    </tr>\n",
       "    <tr>\n",
       "      <th>4</th>\n",
       "      <td>2987004</td>\n",
       "      <td>0</td>\n",
       "      <td>86506</td>\n",
       "      <td>50.0</td>\n",
       "      <td>H</td>\n",
       "      <td>4497</td>\n",
       "      <td>514.0</td>\n",
       "      <td>150.0</td>\n",
       "      <td>mastercard</td>\n",
       "      <td>102.0</td>\n",
       "      <td>...</td>\n",
       "      <td>0.0</td>\n",
       "      <td>0.0</td>\n",
       "      <td>0.0</td>\n",
       "      <td>0.0</td>\n",
       "      <td>0.0</td>\n",
       "      <td>0.0</td>\n",
       "      <td>0.0</td>\n",
       "      <td>0.0</td>\n",
       "      <td>0.0</td>\n",
       "      <td>0.0</td>\n",
       "    </tr>\n",
       "  </tbody>\n",
       "</table>\n",
       "<p>5 rows × 226 columns</p>\n",
       "</div>"
      ],
      "text/plain": [
       "   TransactionID  isFraud  TransactionDT  TransactionAmt ProductCD  card1  \\\n",
       "0        2987000        0          86400            68.5         W  13926   \n",
       "1        2987001        0          86401            29.0         W   2755   \n",
       "2        2987002        0          86469            59.0         W   4663   \n",
       "3        2987003        0          86499            50.0         W  18132   \n",
       "4        2987004        0          86506            50.0         H   4497   \n",
       "\n",
       "   card2  card3       card4  card5  ...   V312  V313  V314  V315  V316  \\\n",
       "0    0.0  150.0    discover  142.0  ...    0.0   0.0   0.0   0.0   0.0   \n",
       "1  404.0  150.0  mastercard  102.0  ...    0.0   0.0   0.0   0.0   0.0   \n",
       "2  490.0  150.0        visa  166.0  ...    0.0   0.0   0.0   0.0   0.0   \n",
       "3  567.0  150.0  mastercard  117.0  ...  135.0   0.0   0.0   0.0  50.0   \n",
       "4  514.0  150.0  mastercard  102.0  ...    0.0   0.0   0.0   0.0   0.0   \n",
       "\n",
       "     V317   V318  V319  V320  V321  \n",
       "0   117.0    0.0   0.0   0.0   0.0  \n",
       "1     0.0    0.0   0.0   0.0   0.0  \n",
       "2     0.0    0.0   0.0   0.0   0.0  \n",
       "3  1404.0  790.0   0.0   0.0   0.0  \n",
       "4     0.0    0.0   0.0   0.0   0.0  \n",
       "\n",
       "[5 rows x 226 columns]"
      ]
     },
     "execution_count": 26,
     "metadata": {},
     "output_type": "execute_result"
    }
   ],
   "source": [
    "train.head()"
   ]
  },
  {
   "cell_type": "markdown",
   "id": "0ZuphuhJt__s",
   "metadata": {
    "id": "0ZuphuhJt__s"
   },
   "source": [
    "**Boxplot d'un sous ensemble de features du train dataset**"
   ]
  },
  {
   "cell_type": "code",
   "execution_count": 27,
   "id": "eC1P1zk8vzyD",
   "metadata": {
    "colab": {
     "base_uri": "https://localhost:8080/"
    },
    "id": "eC1P1zk8vzyD",
    "outputId": "77af933d-45c6-4e88-d97e-9cb15cfc00e0"
   },
   "outputs": [
    {
     "data": {
      "text/plain": [
       "(590540, 226)"
      ]
     },
     "execution_count": 27,
     "metadata": {},
     "output_type": "execute_result"
    }
   ],
   "source": [
    "train.shape"
   ]
  },
  {
   "cell_type": "code",
   "execution_count": 28,
   "id": "R0LcCpvyxp2E",
   "metadata": {
    "colab": {
     "base_uri": "https://localhost:8080/",
     "height": 1000
    },
    "id": "R0LcCpvyxp2E",
    "outputId": "6dbbdd17-42d6-49f7-beaf-e7e40da0f875"
   },
   "outputs": [
    {
     "data": {
      "text/plain": [
       "<AxesSubplot:>"
      ]
     },
     "execution_count": 28,
     "metadata": {},
     "output_type": "execute_result"
    },
    {
     "data": {
      "image/png": "[encoded data removed]",
      "text/plain": [
       "<Figure size 1440x6480 with 1 Axes>"
      ]
     },
     "metadata": {
      "needs_background": "light"
     },
     "output_type": "display_data"
    }
   ],
   "source": [
    "sns.boxplot(data=train, orient=\"h\", palette=\"Set2\")"
   ]
  },
  {
   "cell_type": "markdown",
   "id": "PgeAWiFkzg9n",
   "metadata": {
    "id": "PgeAWiFkzg9n"
   },
   "source": [
    "**Remarque:** Ce graphe nous montre qu'il y'a pas d'outlier dans le train"
   ]
  },
  {
   "cell_type": "markdown",
   "id": "oDnAJH6F2vo-",
   "metadata": {
    "id": "oDnAJH6F2vo-"
   },
   "source": [
    "**Histogram**"
   ]
  },
  {
   "cell_type": "code",
   "execution_count": 29,
   "id": "5b336508",
   "metadata": {
    "colab": {
     "base_uri": "https://localhost:8080/",
     "height": 1000
    },
    "id": "5b336508",
    "outputId": "114405e9-48fa-4cba-d1ed-cf5f6c78c151"
   },
   "outputs": [
    {
     "name": "stdout",
     "output_type": "stream",
     "text": [
      "Wall time: 12.5 s\n"
     ]
    },
    {
     "data": {
      "text/plain": [
       "array([[<AxesSubplot:title={'center':'TransactionID'}>,\n",
       "        <AxesSubplot:title={'center':'isFraud'}>,\n",
       "        <AxesSubplot:title={'center':'TransactionDT'}>,\n",
       "        <AxesSubplot:title={'center':'TransactionAmt'}>,\n",
       "        <AxesSubplot:title={'center':'card1'}>,\n",
       "        <AxesSubplot:title={'center':'card2'}>,\n",
       "        <AxesSubplot:title={'center':'card3'}>,\n",
       "        <AxesSubplot:title={'center':'card5'}>,\n",
       "        <AxesSubplot:title={'center':'addr1'}>,\n",
       "        <AxesSubplot:title={'center':'addr2'}>,\n",
       "        <AxesSubplot:title={'center':'dist1'}>,\n",
       "        <AxesSubplot:title={'center':'C1'}>,\n",
       "        <AxesSubplot:title={'center':'C2'}>,\n",
       "        <AxesSubplot:title={'center':'C3'}>,\n",
       "        <AxesSubplot:title={'center':'C4'}>],\n",
       "       [<AxesSubplot:title={'center':'C5'}>,\n",
       "        <AxesSubplot:title={'center':'C6'}>,\n",
       "        <AxesSubplot:title={'center':'C7'}>,\n",
       "        <AxesSubplot:title={'center':'C8'}>,\n",
       "        <AxesSubplot:title={'center':'C9'}>,\n",
       "        <AxesSubplot:title={'center':'C10'}>,\n",
       "        <AxesSubplot:title={'center':'C11'}>,\n",
       "        <AxesSubplot:title={'center':'C12'}>,\n",
       "        <AxesSubplot:title={'center':'C13'}>,\n",
       "        <AxesSubplot:title={'center':'C14'}>,\n",
       "        <AxesSubplot:title={'center':'D1'}>,\n",
       "        <AxesSubplot:title={'center':'D2'}>,\n",
       "        <AxesSubplot:title={'center':'D3'}>,\n",
       "        <AxesSubplot:title={'center':'D4'}>,\n",
       "        <AxesSubplot:title={'center':'D5'}>],\n",
       "       [<AxesSubplot:title={'center':'D10'}>,\n",
       "        <AxesSubplot:title={'center':'D11'}>,\n",
       "        <AxesSubplot:title={'center':'D15'}>,\n",
       "        <AxesSubplot:title={'center':'V1'}>,\n",
       "        <AxesSubplot:title={'center':'V2'}>,\n",
       "        <AxesSubplot:title={'center':'V3'}>,\n",
       "        <AxesSubplot:title={'center':'V4'}>,\n",
       "        <AxesSubplot:title={'center':'V5'}>,\n",
       "        <AxesSubplot:title={'center':'V6'}>,\n",
       "        <AxesSubplot:title={'center':'V7'}>,\n",
       "        <AxesSubplot:title={'center':'V8'}>,\n",
       "        <AxesSubplot:title={'center':'V9'}>,\n",
       "        <AxesSubplot:title={'center':'V10'}>,\n",
       "        <AxesSubplot:title={'center':'V11'}>,\n",
       "        <AxesSubplot:title={'center':'V12'}>],\n",
       "       [<AxesSubplot:title={'center':'V13'}>,\n",
       "        <AxesSubplot:title={'center':'V14'}>,\n",
       "        <AxesSubplot:title={'center':'V15'}>,\n",
       "        <AxesSubplot:title={'center':'V16'}>,\n",
       "        <AxesSubplot:title={'center':'V17'}>,\n",
       "        <AxesSubplot:title={'center':'V18'}>,\n",
       "        <AxesSubplot:title={'center':'V19'}>,\n",
       "        <AxesSubplot:title={'center':'V20'}>,\n",
       "        <AxesSubplot:title={'center':'V21'}>,\n",
       "        <AxesSubplot:title={'center':'V22'}>,\n",
       "        <AxesSubplot:title={'center':'V23'}>,\n",
       "        <AxesSubplot:title={'center':'V24'}>,\n",
       "        <AxesSubplot:title={'center':'V25'}>,\n",
       "        <AxesSubplot:title={'center':'V26'}>,\n",
       "        <AxesSubplot:title={'center':'V27'}>],\n",
       "       [<AxesSubplot:title={'center':'V28'}>,\n",
       "        <AxesSubplot:title={'center':'V29'}>,\n",
       "        <AxesSubplot:title={'center':'V30'}>,\n",
       "        <AxesSubplot:title={'center':'V31'}>,\n",
       "        <AxesSubplot:title={'center':'V32'}>,\n",
       "        <AxesSubplot:title={'center':'V33'}>,\n",
       "        <AxesSubplot:title={'center':'V34'}>,\n",
       "        <AxesSubplot:title={'center':'V35'}>,\n",
       "        <AxesSubplot:title={'center':'V36'}>,\n",
       "        <AxesSubplot:title={'center':'V37'}>,\n",
       "        <AxesSubplot:title={'center':'V38'}>,\n",
       "        <AxesSubplot:title={'center':'V39'}>,\n",
       "        <AxesSubplot:title={'center':'V40'}>,\n",
       "        <AxesSubplot:title={'center':'V41'}>,\n",
       "        <AxesSubplot:title={'center':'V42'}>],\n",
       "       [<AxesSubplot:title={'center':'V43'}>,\n",
       "        <AxesSubplot:title={'center':'V44'}>,\n",
       "        <AxesSubplot:title={'center':'V45'}>,\n",
       "        <AxesSubplot:title={'center':'V46'}>,\n",
       "        <AxesSubplot:title={'center':'V47'}>,\n",
       "        <AxesSubplot:title={'center':'V48'}>,\n",
       "        <AxesSubplot:title={'center':'V49'}>,\n",
       "        <AxesSubplot:title={'center':'V50'}>,\n",
       "        <AxesSubplot:title={'center':'V51'}>,\n",
       "        <AxesSubplot:title={'center':'V52'}>,\n",
       "        <AxesSubplot:title={'center':'V53'}>,\n",
       "        <AxesSubplot:title={'center':'V54'}>,\n",
       "        <AxesSubplot:title={'center':'V55'}>,\n",
       "        <AxesSubplot:title={'center':'V56'}>,\n",
       "        <AxesSubplot:title={'center':'V57'}>],\n",
       "       [<AxesSubplot:title={'center':'V58'}>,\n",
       "        <AxesSubplot:title={'center':'V59'}>,\n",
       "        <AxesSubplot:title={'center':'V60'}>,\n",
       "        <AxesSubplot:title={'center':'V61'}>,\n",
       "        <AxesSubplot:title={'center':'V62'}>,\n",
       "        <AxesSubplot:title={'center':'V63'}>,\n",
       "        <AxesSubplot:title={'center':'V64'}>,\n",
       "        <AxesSubplot:title={'center':'V65'}>,\n",
       "        <AxesSubplot:title={'center':'V66'}>,\n",
       "        <AxesSubplot:title={'center':'V67'}>,\n",
       "        <AxesSubplot:title={'center':'V68'}>,\n",
       "        <AxesSubplot:title={'center':'V69'}>,\n",
       "        <AxesSubplot:title={'center':'V70'}>,\n",
       "        <AxesSubplot:title={'center':'V71'}>,\n",
       "        <AxesSubplot:title={'center':'V72'}>],\n",
       "       [<AxesSubplot:title={'center':'V73'}>,\n",
       "        <AxesSubplot:title={'center':'V74'}>,\n",
       "        <AxesSubplot:title={'center':'V75'}>,\n",
       "        <AxesSubplot:title={'center':'V76'}>,\n",
       "        <AxesSubplot:title={'center':'V77'}>,\n",
       "        <AxesSubplot:title={'center':'V78'}>,\n",
       "        <AxesSubplot:title={'center':'V79'}>,\n",
       "        <AxesSubplot:title={'center':'V80'}>,\n",
       "        <AxesSubplot:title={'center':'V81'}>,\n",
       "        <AxesSubplot:title={'center':'V82'}>,\n",
       "        <AxesSubplot:title={'center':'V83'}>,\n",
       "        <AxesSubplot:title={'center':'V84'}>,\n",
       "        <AxesSubplot:title={'center':'V85'}>,\n",
       "        <AxesSubplot:title={'center':'V86'}>,\n",
       "        <AxesSubplot:title={'center':'V87'}>],\n",
       "       [<AxesSubplot:title={'center':'V88'}>,\n",
       "        <AxesSubplot:title={'center':'V89'}>,\n",
       "        <AxesSubplot:title={'center':'V90'}>,\n",
       "        <AxesSubplot:title={'center':'V91'}>,\n",
       "        <AxesSubplot:title={'center':'V92'}>,\n",
       "        <AxesSubplot:title={'center':'V93'}>,\n",
       "        <AxesSubplot:title={'center':'V94'}>,\n",
       "        <AxesSubplot:title={'center':'V95'}>,\n",
       "        <AxesSubplot:title={'center':'V96'}>,\n",
       "        <AxesSubplot:title={'center':'V97'}>,\n",
       "        <AxesSubplot:title={'center':'V98'}>,\n",
       "        <AxesSubplot:title={'center':'V99'}>,\n",
       "        <AxesSubplot:title={'center':'V100'}>,\n",
       "        <AxesSubplot:title={'center':'V101'}>,\n",
       "        <AxesSubplot:title={'center':'V102'}>],\n",
       "       [<AxesSubplot:title={'center':'V103'}>,\n",
       "        <AxesSubplot:title={'center':'V104'}>,\n",
       "        <AxesSubplot:title={'center':'V105'}>,\n",
       "        <AxesSubplot:title={'center':'V106'}>,\n",
       "        <AxesSubplot:title={'center':'V107'}>,\n",
       "        <AxesSubplot:title={'center':'V108'}>,\n",
       "        <AxesSubplot:title={'center':'V109'}>,\n",
       "        <AxesSubplot:title={'center':'V110'}>,\n",
       "        <AxesSubplot:title={'center':'V111'}>,\n",
       "        <AxesSubplot:title={'center':'V112'}>,\n",
       "        <AxesSubplot:title={'center':'V113'}>,\n",
       "        <AxesSubplot:title={'center':'V114'}>,\n",
       "        <AxesSubplot:title={'center':'V115'}>,\n",
       "        <AxesSubplot:title={'center':'V116'}>,\n",
       "        <AxesSubplot:title={'center':'V117'}>],\n",
       "       [<AxesSubplot:title={'center':'V118'}>,\n",
       "        <AxesSubplot:title={'center':'V119'}>,\n",
       "        <AxesSubplot:title={'center':'V120'}>,\n",
       "        <AxesSubplot:title={'center':'V121'}>,\n",
       "        <AxesSubplot:title={'center':'V122'}>,\n",
       "        <AxesSubplot:title={'center':'V123'}>,\n",
       "        <AxesSubplot:title={'center':'V124'}>,\n",
       "        <AxesSubplot:title={'center':'V125'}>,\n",
       "        <AxesSubplot:title={'center':'V126'}>,\n",
       "        <AxesSubplot:title={'center':'V127'}>,\n",
       "        <AxesSubplot:title={'center':'V128'}>,\n",
       "        <AxesSubplot:title={'center':'V129'}>,\n",
       "        <AxesSubplot:title={'center':'V130'}>,\n",
       "        <AxesSubplot:title={'center':'V131'}>,\n",
       "        <AxesSubplot:title={'center':'V132'}>],\n",
       "       [<AxesSubplot:title={'center':'V133'}>,\n",
       "        <AxesSubplot:title={'center':'V134'}>,\n",
       "        <AxesSubplot:title={'center':'V135'}>,\n",
       "        <AxesSubplot:title={'center':'V136'}>,\n",
       "        <AxesSubplot:title={'center':'V137'}>,\n",
       "        <AxesSubplot:title={'center':'V279'}>,\n",
       "        <AxesSubplot:title={'center':'V280'}>,\n",
       "        <AxesSubplot:title={'center':'V281'}>,\n",
       "        <AxesSubplot:title={'center':'V282'}>,\n",
       "        <AxesSubplot:title={'center':'V283'}>,\n",
       "        <AxesSubplot:title={'center':'V284'}>,\n",
       "        <AxesSubplot:title={'center':'V285'}>,\n",
       "        <AxesSubplot:title={'center':'V286'}>,\n",
       "        <AxesSubplot:title={'center':'V287'}>,\n",
       "        <AxesSubplot:title={'center':'V288'}>],\n",
       "       [<AxesSubplot:title={'center':'V289'}>,\n",
       "        <AxesSubplot:title={'center':'V290'}>,\n",
       "        <AxesSubplot:title={'center':'V291'}>,\n",
       "        <AxesSubplot:title={'center':'V292'}>,\n",
       "        <AxesSubplot:title={'center':'V293'}>,\n",
       "        <AxesSubplot:title={'center':'V294'}>,\n",
       "        <AxesSubplot:title={'center':'V295'}>,\n",
       "        <AxesSubplot:title={'center':'V296'}>,\n",
       "        <AxesSubplot:title={'center':'V297'}>,\n",
       "        <AxesSubplot:title={'center':'V298'}>,\n",
       "        <AxesSubplot:title={'center':'V299'}>,\n",
       "        <AxesSubplot:title={'center':'V300'}>,\n",
       "        <AxesSubplot:title={'center':'V301'}>,\n",
       "        <AxesSubplot:title={'center':'V302'}>,\n",
       "        <AxesSubplot:title={'center':'V303'}>],\n",
       "       [<AxesSubplot:title={'center':'V304'}>,\n",
       "        <AxesSubplot:title={'center':'V305'}>,\n",
       "        <AxesSubplot:title={'center':'V306'}>,\n",
       "        <AxesSubplot:title={'center':'V307'}>,\n",
       "        <AxesSubplot:title={'center':'V308'}>,\n",
       "        <AxesSubplot:title={'center':'V309'}>,\n",
       "        <AxesSubplot:title={'center':'V310'}>,\n",
       "        <AxesSubplot:title={'center':'V311'}>,\n",
       "        <AxesSubplot:title={'center':'V312'}>,\n",
       "        <AxesSubplot:title={'center':'V313'}>,\n",
       "        <AxesSubplot:title={'center':'V314'}>,\n",
       "        <AxesSubplot:title={'center':'V315'}>,\n",
       "        <AxesSubplot:title={'center':'V316'}>,\n",
       "        <AxesSubplot:title={'center':'V317'}>,\n",
       "        <AxesSubplot:title={'center':'V318'}>],\n",
       "       [<AxesSubplot:title={'center':'V319'}>,\n",
       "        <AxesSubplot:title={'center':'V320'}>,\n",
       "        <AxesSubplot:title={'center':'V321'}>, <AxesSubplot:>,\n",
       "        <AxesSubplot:>, <AxesSubplot:>, <AxesSubplot:>, <AxesSubplot:>,\n",
       "        <AxesSubplot:>, <AxesSubplot:>, <AxesSubplot:>, <AxesSubplot:>,\n",
       "        <AxesSubplot:>, <AxesSubplot:>, <AxesSubplot:>]], dtype=object)"
      ]
     },
     "execution_count": 29,
     "metadata": {},
     "output_type": "execute_result"
    },
    {
     "data": {
      "image/png": "[encoded data removed]",
      "text/plain": [
       "<Figure size 1296x648 with 225 Axes>"
      ]
     },
     "metadata": {
      "needs_background": "light"
     },
     "output_type": "display_data"
    }
   ],
   "source": [
    "%%time\n",
    "train.hist(figsize=(18,9))"
   ]
  },
  {
   "cell_type": "markdown",
   "id": "YnaVI_Yf3Jp7",
   "metadata": {
    "id": "YnaVI_Yf3Jp7"
   },
   "source": [
    "**Analyse de la variable cible**"
   ]
  },
  {
   "cell_type": "code",
   "execution_count": 30,
   "id": "6bf06020",
   "metadata": {
    "colab": {
     "base_uri": "https://localhost:8080/"
    },
    "id": "6bf06020",
    "outputId": "53d95378-47db-446c-fc5b-b1a29443ba98"
   },
   "outputs": [
    {
     "data": {
      "text/plain": [
       "0    0.96501\n",
       "1    0.03499\n",
       "Name: isFraud, dtype: float64"
      ]
     },
     "execution_count": 30,
     "metadata": {},
     "output_type": "execute_result"
    }
   ],
   "source": [
    "train['isFraud'].value_counts(normalize=True)"
   ]
  },
  {
   "cell_type": "markdown",
   "id": "59iZtRiO3QbN",
   "metadata": {
    "id": "59iZtRiO3QbN"
   },
   "source": [
    "**Remarque:** Nous constatons ici que le train dataset contient pratiquement 96% d'observations non frauduleuse. Nous sommes donc face à un dataset contenant des classes déséquilibrés. Un modèle basé sur ce dataset est susceptible de produire un modèle biaisé. Par la suite, il faudra donc reéchantillonné le dataset pour pouvoir obtenir un modèle avec des prédictions non biaisés.  "
   ]
  },
  {
   "cell_type": "markdown",
   "id": "oEeu1WMe4Q3l",
   "metadata": {
    "id": "oEeu1WMe4Q3l"
   },
   "source": [
    "**Encodage des valeurs categorielle**"
   ]
  },
  {
   "cell_type": "code",
   "execution_count": 31,
   "id": "2LpN8aRY4lXn",
   "metadata": {
    "colab": {
     "base_uri": "https://localhost:8080/"
    },
    "id": "2LpN8aRY4lXn",
    "outputId": "b229ca00-633b-4232-94ac-9295767f81f5"
   },
   "outputs": [
    {
     "data": {
      "text/plain": [
       "120"
      ]
     },
     "execution_count": 31,
     "metadata": {},
     "output_type": "execute_result"
    }
   ],
   "source": [
    "gc.collect()"
   ]
  },
  {
   "cell_type": "code",
   "execution_count": 32,
   "id": "ji3HtGC03ref",
   "metadata": {
    "id": "ji3HtGC03ref"
   },
   "outputs": [],
   "source": [
    "train = functions.encode_df(train)"
   ]
  },
  {
   "cell_type": "markdown",
   "id": "SDoN850_6gNd",
   "metadata": {
    "id": "SDoN850_6gNd"
   },
   "source": [
    "**Analyse de la correlation**"
   ]
  },
  {
   "cell_type": "code",
   "execution_count": 33,
   "id": "REMeDaJK6lA1",
   "metadata": {
    "id": "REMeDaJK6lA1"
   },
   "outputs": [],
   "source": [
    "# correlation matrix\n",
    "corr_matrix = train.corr().abs()\n",
    "\n",
    "# Select upper triangle of correlation matrix\n",
    "upper = corr_matrix.where(np.triu(np.ones(corr_matrix.shape), k=1).astype(np.bool))\n",
    "\n",
    "# Find features with correlation greater than 0.95\n",
    "to_drop = [column for column in upper.columns if any(upper[column] > 0.95)]\n",
    "\n",
    "# Suppression des features \n",
    "train.drop(to_drop, axis=1, inplace=True)"
   ]
  },
  {
   "cell_type": "code",
   "execution_count": 34,
   "id": "tiyN7Fk3DWav",
   "metadata": {
    "colab": {
     "base_uri": "https://localhost:8080/"
    },
    "id": "tiyN7Fk3DWav",
    "outputId": "2fca6b51-6e50-4c9d-9676-ac92ceda0948"
   },
   "outputs": [
    {
     "data": {
      "text/plain": [
       "0"
      ]
     },
     "execution_count": 34,
     "metadata": {},
     "output_type": "execute_result"
    }
   ],
   "source": [
    "gc.collect()"
   ]
  },
  {
   "cell_type": "code",
   "execution_count": 35,
   "id": "25BdP3C1F0lh",
   "metadata": {
    "colab": {
     "base_uri": "https://localhost:8080/"
    },
    "id": "25BdP3C1F0lh",
    "outputId": "0066f870-543b-41e7-aaa6-e5e7f55a574f"
   },
   "outputs": [
    {
     "data": {
      "text/plain": [
       "(590540, 241)"
      ]
     },
     "execution_count": 35,
     "metadata": {},
     "output_type": "execute_result"
    }
   ],
   "source": [
    "train.shape"
   ]
  },
  {
   "cell_type": "markdown",
   "id": "VyulWuemGv7h",
   "metadata": {
    "id": "VyulWuemGv7h"
   },
   "source": [
    "**Test dataset**"
   ]
  },
  {
   "cell_type": "code",
   "execution_count": 36,
   "id": "CYTj7jHLGufJ",
   "metadata": {
    "colab": {
     "base_uri": "https://localhost:8080/",
     "height": 205
    },
    "id": "CYTj7jHLGufJ",
    "outputId": "91a91ca6-bde7-421d-f8eb-1ecee9b8f061"
   },
   "outputs": [
    {
     "data": {
      "text/html": [
       "<div>\n",
       "<style scoped>\n",
       "    .dataframe tbody tr th:only-of-type {\n",
       "        vertical-align: middle;\n",
       "    }\n",
       "\n",
       "    .dataframe tbody tr th {\n",
       "        vertical-align: top;\n",
       "    }\n",
       "\n",
       "    .dataframe thead th {\n",
       "        text-align: right;\n",
       "    }\n",
       "</style>\n",
       "<table border=\"1\" class=\"dataframe\">\n",
       "  <thead>\n",
       "    <tr style=\"text-align: right;\">\n",
       "      <th></th>\n",
       "      <th>TransactionID</th>\n",
       "      <th>TransactionDT</th>\n",
       "      <th>TransactionAmt</th>\n",
       "      <th>ProductCD</th>\n",
       "      <th>card1</th>\n",
       "      <th>card2</th>\n",
       "      <th>card3</th>\n",
       "      <th>card4</th>\n",
       "      <th>card5</th>\n",
       "      <th>card6</th>\n",
       "      <th>...</th>\n",
       "      <th>id-31</th>\n",
       "      <th>id-32</th>\n",
       "      <th>id-33</th>\n",
       "      <th>id-34</th>\n",
       "      <th>id-35</th>\n",
       "      <th>id-36</th>\n",
       "      <th>id-37</th>\n",
       "      <th>id-38</th>\n",
       "      <th>DeviceType</th>\n",
       "      <th>DeviceInfo</th>\n",
       "    </tr>\n",
       "  </thead>\n",
       "  <tbody>\n",
       "    <tr>\n",
       "      <th>0</th>\n",
       "      <td>3663549</td>\n",
       "      <td>18403224</td>\n",
       "      <td>31.953125</td>\n",
       "      <td>W</td>\n",
       "      <td>10409</td>\n",
       "      <td>111.0</td>\n",
       "      <td>150.0</td>\n",
       "      <td>visa</td>\n",
       "      <td>226.0</td>\n",
       "      <td>debit</td>\n",
       "      <td>...</td>\n",
       "      <td>NaN</td>\n",
       "      <td>NaN</td>\n",
       "      <td>NaN</td>\n",
       "      <td>NaN</td>\n",
       "      <td>NaN</td>\n",
       "      <td>NaN</td>\n",
       "      <td>NaN</td>\n",
       "      <td>NaN</td>\n",
       "      <td>NaN</td>\n",
       "      <td>NaN</td>\n",
       "    </tr>\n",
       "    <tr>\n",
       "      <th>1</th>\n",
       "      <td>3663550</td>\n",
       "      <td>18403263</td>\n",
       "      <td>49.000000</td>\n",
       "      <td>W</td>\n",
       "      <td>4272</td>\n",
       "      <td>111.0</td>\n",
       "      <td>150.0</td>\n",
       "      <td>visa</td>\n",
       "      <td>226.0</td>\n",
       "      <td>debit</td>\n",
       "      <td>...</td>\n",
       "      <td>NaN</td>\n",
       "      <td>NaN</td>\n",
       "      <td>NaN</td>\n",
       "      <td>NaN</td>\n",
       "      <td>NaN</td>\n",
       "      <td>NaN</td>\n",
       "      <td>NaN</td>\n",
       "      <td>NaN</td>\n",
       "      <td>NaN</td>\n",
       "      <td>NaN</td>\n",
       "    </tr>\n",
       "  </tbody>\n",
       "</table>\n",
       "<p>2 rows × 433 columns</p>\n",
       "</div>"
      ],
      "text/plain": [
       "   TransactionID  TransactionDT  TransactionAmt ProductCD  card1  card2  \\\n",
       "0        3663549       18403224       31.953125         W  10409  111.0   \n",
       "1        3663550       18403263       49.000000         W   4272  111.0   \n",
       "\n",
       "   card3 card4  card5  card6  ...  id-31  id-32  id-33  id-34 id-35 id-36  \\\n",
       "0  150.0  visa  226.0  debit  ...    NaN    NaN    NaN    NaN   NaN   NaN   \n",
       "1  150.0  visa  226.0  debit  ...    NaN    NaN    NaN    NaN   NaN   NaN   \n",
       "\n",
       "   id-37  id-38  DeviceType  DeviceInfo  \n",
       "0    NaN    NaN         NaN         NaN  \n",
       "1    NaN    NaN         NaN         NaN  \n",
       "\n",
       "[2 rows x 433 columns]"
      ]
     },
     "execution_count": 36,
     "metadata": {},
     "output_type": "execute_result"
    }
   ],
   "source": [
    "test.head(2)"
   ]
  },
  {
   "cell_type": "code",
   "execution_count": 37,
   "id": "-sdVcnxnHBko",
   "metadata": {
    "colab": {
     "base_uri": "https://localhost:8080/"
    },
    "id": "-sdVcnxnHBko",
    "outputId": "ec49580e-cc32-44ea-dfc3-7212e46216f5"
   },
   "outputs": [
    {
     "name": "stdout",
     "output_type": "stream",
     "text": [
      " Le dataframe de test ne contient pas de la variable cible 'isFraud'. Ceci rend ce dataframe inutilisable dans le cadre de notre projet.\n",
      "\n",
      " Pour la suite, nous allons donc utiliser principalement les dataframe Train\n"
     ]
    }
   ],
   "source": [
    "if ('isFraud' not in test.columns) and ('isFraud' not in test.columns):\n",
    "    print(\" Le dataframe de test ne contient pas de la variable cible 'isFraud'. Ceci rend ce dataframe inutilisable dans le cadre de notre projet.\\n\\n Pour la suite, nous allons donc utiliser principalement les dataframe Train\")"
   ]
  },
  {
   "cell_type": "markdown",
   "id": "N7hMJhkFGg15",
   "metadata": {
    "id": "N7hMJhkFGg15"
   },
   "source": [
    "**Train test split**"
   ]
  },
  {
   "cell_type": "code",
   "execution_count": 38,
   "id": "tQQs8MrjGlVL",
   "metadata": {
    "id": "tQQs8MrjGlVL"
   },
   "outputs": [],
   "source": [
    "feats  = train.drop('isFraud', axis=1)\n",
    "target = train.isFraud\n",
    "X_train, X_test, y_train, y_test = train_test_split(feats, target, test_size=0.25)"
   ]
  },
  {
   "cell_type": "code",
   "execution_count": 39,
   "id": "4j-yfy-1INI0",
   "metadata": {
    "colab": {
     "base_uri": "https://localhost:8080/"
    },
    "id": "4j-yfy-1INI0",
    "outputId": "405ee906-663a-4722-c2de-29c024970a7d"
   },
   "outputs": [
    {
     "data": {
      "text/plain": [
       "0"
      ]
     },
     "execution_count": 39,
     "metadata": {},
     "output_type": "execute_result"
    }
   ],
   "source": [
    "gc.collect()"
   ]
  },
  {
   "cell_type": "markdown",
   "id": "VqXI04msFuQk",
   "metadata": {
    "id": "VqXI04msFuQk"
   },
   "source": [
    "**Features selection**"
   ]
  },
  {
   "cell_type": "code",
   "execution_count": 40,
   "id": "e044826e",
   "metadata": {
    "id": "e044826e"
   },
   "outputs": [],
   "source": [
    "X_train_fs, X_test_fs = functions.select_features(X_train, y_train, X_test)"
   ]
  },
  {
   "cell_type": "code",
   "execution_count": 41,
   "id": "yjrjOGcbcR7w",
   "metadata": {
    "colab": {
     "base_uri": "https://localhost:8080/"
    },
    "id": "yjrjOGcbcR7w",
    "outputId": "28b7f40e-8603-404c-fa09-349f93919c6e"
   },
   "outputs": [
    {
     "data": {
      "text/plain": [
       "0"
      ]
     },
     "execution_count": 41,
     "metadata": {},
     "output_type": "execute_result"
    }
   ],
   "source": [
    "gc.collect()"
   ]
  },
  {
   "cell_type": "markdown",
   "id": "090d05b0",
   "metadata": {
    "id": "090d05b0"
   },
   "source": [
    "**Features scaling**"
   ]
  },
  {
   "cell_type": "code",
   "execution_count": 42,
   "id": "9373ccc8",
   "metadata": {
    "id": "9373ccc8"
   },
   "outputs": [],
   "source": [
    "#feature scaling with robustScaler\n",
    "transformer = RobustScaler().fit(X_train_fs)\n",
    "X_train = transformer.transform(X_train_fs)\n",
    "X_test  = transformer.transform(X_test_fs)"
   ]
  },
  {
   "cell_type": "code",
   "execution_count": 43,
   "id": "eccef690",
   "metadata": {
    "colab": {
     "base_uri": "https://localhost:8080/"
    },
    "id": "eccef690",
    "outputId": "4ed8a3fb-7284-4afa-d928-dca585276aec"
   },
   "outputs": [
    {
     "data": {
      "text/plain": [
       "0"
      ]
     },
     "execution_count": 43,
     "metadata": {},
     "output_type": "execute_result"
    }
   ],
   "source": [
    "gc.collect()"
   ]
  },
  {
   "cell_type": "markdown",
   "id": "c2b03858",
   "metadata": {
    "id": "c2b03858"
   },
   "source": [
    "**Dataset resampling with SMOTE**"
   ]
  },
  {
   "cell_type": "code",
   "execution_count": 44,
   "id": "369ca2b3",
   "metadata": {
    "colab": {
     "base_uri": "https://localhost:8080/"
    },
    "id": "369ca2b3",
    "outputId": "7b0c2d37-5791-4ada-ecfa-0c480eb15800"
   },
   "outputs": [
    {
     "name": "stdout",
     "output_type": "stream",
     "text": [
      "Classes échantillon SMOTE : {0: 427393, 1: 427393}\n"
     ]
    }
   ],
   "source": [
    "#Dataset resampling with SMOTE: \n",
    "smo = SMOTE()\n",
    "X_sm, y_sm = smo.fit_resample(X_train, y_train)\n",
    "print('Classes échantillon SMOTE :', dict(pd.Series(y_sm).value_counts()))"
   ]
  },
  {
   "cell_type": "code",
   "execution_count": 45,
   "id": "jYRMNnI_LXpH",
   "metadata": {
    "colab": {
     "base_uri": "https://localhost:8080/"
    },
    "id": "jYRMNnI_LXpH",
    "outputId": "9e18819c-11bb-448b-d1bf-c1f484cd8efd"
   },
   "outputs": [
    {
     "data": {
      "text/plain": [
       "0"
      ]
     },
     "execution_count": 45,
     "metadata": {},
     "output_type": "execute_result"
    }
   ],
   "source": [
    "gc.collect()"
   ]
  },
  {
   "cell_type": "markdown",
   "id": "53d949e1",
   "metadata": {
    "id": "53d949e1"
   },
   "source": [
    "# **2- Entrainement et optimisation des hyperparamètres**"
   ]
  },
  {
   "cell_type": "markdown",
   "id": "mPgXJUMmeCr0",
   "metadata": {
    "id": "mPgXJUMmeCr0"
   },
   "source": [
    "# A- Aprrentissage supervisé"
   ]
  },
  {
   "cell_type": "markdown",
   "id": "0cbde4ef",
   "metadata": {
    "id": "0cbde4ef"
   },
   "source": [
    "**1- Lightgbm model**\n"
   ]
  },
  {
   "cell_type": "code",
   "execution_count": 46,
   "id": "6d200c40",
   "metadata": {
    "colab": {
     "base_uri": "https://localhost:8080/"
    },
    "id": "6d200c40",
    "outputId": "f75812fe-d1e8-4464-c25b-b78449ab3974",
    "scrolled": true
   },
   "outputs": [
    {
     "data": {
      "text/plain": [
       "LGBMClassifier()"
      ]
     },
     "execution_count": 46,
     "metadata": {},
     "output_type": "execute_result"
    }
   ],
   "source": [
    "# build the lightgbm model\n",
    "import lightgbm as lgb\n",
    "\n",
    "clf = lgb.LGBMClassifier()\n",
    "clf.fit(X_sm, y_sm)"
   ]
  },
  {
   "cell_type": "code",
   "execution_count": 47,
   "id": "eb9d6b2f",
   "metadata": {
    "id": "eb9d6b2f"
   },
   "outputs": [],
   "source": [
    "# predict the results\n",
    "y_pred=clf.predict(X_test)"
   ]
  },
  {
   "cell_type": "code",
   "execution_count": 48,
   "id": "70b45ef4",
   "metadata": {
    "colab": {
     "base_uri": "https://localhost:8080/"
    },
    "id": "70b45ef4",
    "outputId": "19eb703f-14d0-4516-f63e-8e8e3f5a8a81"
   },
   "outputs": [
    {
     "name": "stdout",
     "output_type": "stream",
     "text": [
      "LightGBM Model accuracy score: 0.9491\n"
     ]
    }
   ],
   "source": [
    "from sklearn.metrics import accuracy_score\n",
    "accuracy_LightGBM=accuracy_score(y_pred, y_test)\n",
    "print('LightGBM Model accuracy score: {0:0.4f}'.format(accuracy_LightGBM))"
   ]
  },
  {
   "cell_type": "markdown",
   "id": "a2782883",
   "metadata": {
    "id": "a2782883"
   },
   "source": [
    " **Comparaison de l'accuracy du train and test**\n",
    "\n",
    "Cette comparaison nous permettra de vérifier que nous n'avons pas d'overfitting (suraprrentissage)."
   ]
  },
  {
   "cell_type": "code",
   "execution_count": 49,
   "id": "f284bf62",
   "metadata": {
    "colab": {
     "base_uri": "https://localhost:8080/"
    },
    "id": "f284bf62",
    "outputId": "b5454923-79a4-4e5e-c13d-c92539df1d27"
   },
   "outputs": [
    {
     "name": "stdout",
     "output_type": "stream",
     "text": [
      "Training set score: 0.9507\n",
      "Test set score: 0.9491\n"
     ]
    }
   ],
   "source": [
    "# print the scores on training and test set\n",
    "\n",
    "print('Training set score: {:.4f}'.format(clf.score(X_train, y_train)))\n",
    "\n",
    "print('Test set score: {:.4f}'.format(clf.score(X_test, y_test)))"
   ]
  },
  {
   "cell_type": "markdown",
   "id": "d21427b7",
   "metadata": {
    "id": "d21427b7"
   },
   "source": [
    "**Note:** Le score (accuracy) obtenu en utilisant le train est presque similaire à celui obtenu avec le test dataset. Nous pouvons conclure que nous ne sommes pas en présence d'un cas d'overfitting "
   ]
  },
  {
   "cell_type": "markdown",
   "id": "20f3ba9c",
   "metadata": {
    "id": "20f3ba9c"
   },
   "source": [
    "**Lightgbm Hyperparameter optimization**"
   ]
  },
  {
   "cell_type": "code",
   "execution_count": 50,
   "id": "2c7c307c",
   "metadata": {
    "id": "2c7c307c"
   },
   "outputs": [],
   "source": [
    "clf_lgb = lgb.LGBMClassifier()\n",
    "params_lgb = {\n",
    "    'num_leaves':[20,40,60,80,100], \n",
    "    'min_data_in_leaf':[200,300,400],\n",
    "    'max_depth':[4,6,8],\n",
    "    'learning_rate':[0.05,0.1,0.2],\n",
    "}\n",
    "\n",
    "gridcv_lgb = GridSearchCV(clf_lgb, param_grid=params_lgb, scoring='accuracy', cv=3)   "
   ]
  },
  {
   "cell_type": "code",
   "execution_count": 51,
   "id": "5466fc27",
   "metadata": {
    "id": "5466fc27"
   },
   "outputs": [
    {
     "name": "stdout",
     "output_type": "stream",
     "text": [
      "[LightGBM] [Warning] min_data_in_leaf is set=200, min_child_samples=20 will be ignored. Current value: min_data_in_leaf=200\n",
      "[LightGBM] [Warning] min_data_in_leaf is set=200, min_child_samples=20 will be ignored. Current value: min_data_in_leaf=200\n",
      "[LightGBM] [Warning] min_data_in_leaf is set=200, min_child_samples=20 will be ignored. Current value: min_data_in_leaf=200\n",
      "[LightGBM] [Warning] min_data_in_leaf is set=200, min_child_samples=20 will be ignored. Current value: min_data_in_leaf=200\n",
      "[LightGBM] [Warning] min_data_in_leaf is set=200, min_child_samples=20 will be ignored. Current value: min_data_in_leaf=200\n",
      "[LightGBM] [Warning] min_data_in_leaf is set=200, min_child_samples=20 will be ignored. Current value: min_data_in_leaf=200\n",
      "[LightGBM] [Warning] min_data_in_leaf is set=200, min_child_samples=20 will be ignored. Current value: min_data_in_leaf=200\n",
      "[LightGBM] [Warning] min_data_in_leaf is set=200, min_child_samples=20 will be ignored. Current value: min_data_in_leaf=200\n",
      "[LightGBM] [Warning] min_data_in_leaf is set=200, min_child_samples=20 will be ignored. Current value: min_data_in_leaf=200\n",
      "[LightGBM] [Warning] min_data_in_leaf is set=200, min_child_samples=20 will be ignored. Current value: min_data_in_leaf=200\n",
      "[LightGBM] [Warning] min_data_in_leaf is set=200, min_child_samples=20 will be ignored. Current value: min_data_in_leaf=200\n",
      "[LightGBM] [Warning] min_data_in_leaf is set=200, min_child_samples=20 will be ignored. Current value: min_data_in_leaf=200\n",
      "[LightGBM] [Warning] min_data_in_leaf is set=200, min_child_samples=20 will be ignored. Current value: min_data_in_leaf=200\n",
      "[LightGBM] [Warning] min_data_in_leaf is set=200, min_child_samples=20 will be ignored. Current value: min_data_in_leaf=200\n",
      "[LightGBM] [Warning] min_data_in_leaf is set=200, min_child_samples=20 will be ignored. Current value: min_data_in_leaf=200\n",
      "[LightGBM] [Warning] min_data_in_leaf is set=300, min_child_samples=20 will be ignored. Current value: min_data_in_leaf=300\n",
      "[LightGBM] [Warning] min_data_in_leaf is set=300, min_child_samples=20 will be ignored. Current value: min_data_in_leaf=300\n",
      "[LightGBM] [Warning] min_data_in_leaf is set=300, min_child_samples=20 will be ignored. Current value: min_data_in_leaf=300\n",
      "[LightGBM] [Warning] min_data_in_leaf is set=300, min_child_samples=20 will be ignored. Current value: min_data_in_leaf=300\n",
      "[LightGBM] [Warning] min_data_in_leaf is set=300, min_child_samples=20 will be ignored. Current value: min_data_in_leaf=300\n",
      "[LightGBM] [Warning] min_data_in_leaf is set=300, min_child_samples=20 will be ignored. Current value: min_data_in_leaf=300\n",
      "[LightGBM] [Warning] min_data_in_leaf is set=300, min_child_samples=20 will be ignored. Current value: min_data_in_leaf=300\n",
      "[LightGBM] [Warning] min_data_in_leaf is set=300, min_child_samples=20 will be ignored. Current value: min_data_in_leaf=300\n",
      "[LightGBM] [Warning] min_data_in_leaf is set=300, min_child_samples=20 will be ignored. Current value: min_data_in_leaf=300\n",
      "[LightGBM] [Warning] min_data_in_leaf is set=300, min_child_samples=20 will be ignored. Current value: min_data_in_leaf=300\n",
      "[LightGBM] [Warning] min_data_in_leaf is set=300, min_child_samples=20 will be ignored. Current value: min_data_in_leaf=300\n",
      "[LightGBM] [Warning] min_data_in_leaf is set=300, min_child_samples=20 will be ignored. Current value: min_data_in_leaf=300\n",
      "[LightGBM] [Warning] min_data_in_leaf is set=300, min_child_samples=20 will be ignored. Current value: min_data_in_leaf=300\n",
      "[LightGBM] [Warning] min_data_in_leaf is set=300, min_child_samples=20 will be ignored. Current value: min_data_in_leaf=300\n",
      "[LightGBM] [Warning] min_data_in_leaf is set=300, min_child_samples=20 will be ignored. Current value: min_data_in_leaf=300\n",
      "[LightGBM] [Warning] min_data_in_leaf is set=400, min_child_samples=20 will be ignored. Current value: min_data_in_leaf=400\n",
      "[LightGBM] [Warning] min_data_in_leaf is set=400, min_child_samples=20 will be ignored. Current value: min_data_in_leaf=400\n",
      "[LightGBM] [Warning] min_data_in_leaf is set=400, min_child_samples=20 will be ignored. Current value: min_data_in_leaf=400\n",
      "[LightGBM] [Warning] min_data_in_leaf is set=400, min_child_samples=20 will be ignored. Current value: min_data_in_leaf=400\n",
      "[LightGBM] [Warning] min_data_in_leaf is set=400, min_child_samples=20 will be ignored. Current value: min_data_in_leaf=400\n",
      "[LightGBM] [Warning] min_data_in_leaf is set=400, min_child_samples=20 will be ignored. Current value: min_data_in_leaf=400\n",
      "[LightGBM] [Warning] min_data_in_leaf is set=400, min_child_samples=20 will be ignored. Current value: min_data_in_leaf=400\n",
      "[LightGBM] [Warning] min_data_in_leaf is set=400, min_child_samples=20 will be ignored. Current value: min_data_in_leaf=400\n",
      "[LightGBM] [Warning] min_data_in_leaf is set=400, min_child_samples=20 will be ignored. Current value: min_data_in_leaf=400\n",
      "[LightGBM] [Warning] min_data_in_leaf is set=400, min_child_samples=20 will be ignored. Current value: min_data_in_leaf=400\n",
      "[LightGBM] [Warning] min_data_in_leaf is set=400, min_child_samples=20 will be ignored. Current value: min_data_in_leaf=400\n",
      "[LightGBM] [Warning] min_data_in_leaf is set=400, min_child_samples=20 will be ignored. Current value: min_data_in_leaf=400\n",
      "[LightGBM] [Warning] min_data_in_leaf is set=400, min_child_samples=20 will be ignored. Current value: min_data_in_leaf=400\n",
      "[LightGBM] [Warning] min_data_in_leaf is set=400, min_child_samples=20 will be ignored. Current value: min_data_in_leaf=400\n",
      "[LightGBM] [Warning] min_data_in_leaf is set=400, min_child_samples=20 will be ignored. Current value: min_data_in_leaf=400\n",
      "[LightGBM] [Warning] min_data_in_leaf is set=200, min_child_samples=20 will be ignored. Current value: min_data_in_leaf=200\n",
      "[LightGBM] [Warning] min_data_in_leaf is set=200, min_child_samples=20 will be ignored. Current value: min_data_in_leaf=200\n",
      "[LightGBM] [Warning] min_data_in_leaf is set=200, min_child_samples=20 will be ignored. Current value: min_data_in_leaf=200\n",
      "[LightGBM] [Warning] min_data_in_leaf is set=200, min_child_samples=20 will be ignored. Current value: min_data_in_leaf=200\n",
      "[LightGBM] [Warning] min_data_in_leaf is set=200, min_child_samples=20 will be ignored. Current value: min_data_in_leaf=200\n",
      "[LightGBM] [Warning] min_data_in_leaf is set=200, min_child_samples=20 will be ignored. Current value: min_data_in_leaf=200\n",
      "[LightGBM] [Warning] min_data_in_leaf is set=200, min_child_samples=20 will be ignored. Current value: min_data_in_leaf=200\n",
      "[LightGBM] [Warning] min_data_in_leaf is set=200, min_child_samples=20 will be ignored. Current value: min_data_in_leaf=200\n",
      "[LightGBM] [Warning] min_data_in_leaf is set=200, min_child_samples=20 will be ignored. Current value: min_data_in_leaf=200\n",
      "[LightGBM] [Warning] min_data_in_leaf is set=200, min_child_samples=20 will be ignored. Current value: min_data_in_leaf=200\n",
      "[LightGBM] [Warning] min_data_in_leaf is set=200, min_child_samples=20 will be ignored. Current value: min_data_in_leaf=200\n",
      "[LightGBM] [Warning] min_data_in_leaf is set=200, min_child_samples=20 will be ignored. Current value: min_data_in_leaf=200\n",
      "[LightGBM] [Warning] min_data_in_leaf is set=200, min_child_samples=20 will be ignored. Current value: min_data_in_leaf=200\n",
      "[LightGBM] [Warning] min_data_in_leaf is set=200, min_child_samples=20 will be ignored. Current value: min_data_in_leaf=200\n",
      "[LightGBM] [Warning] min_data_in_leaf is set=200, min_child_samples=20 will be ignored. Current value: min_data_in_leaf=200\n",
      "[LightGBM] [Warning] min_data_in_leaf is set=300, min_child_samples=20 will be ignored. Current value: min_data_in_leaf=300\n",
      "[LightGBM] [Warning] min_data_in_leaf is set=300, min_child_samples=20 will be ignored. Current value: min_data_in_leaf=300\n",
      "[LightGBM] [Warning] min_data_in_leaf is set=300, min_child_samples=20 will be ignored. Current value: min_data_in_leaf=300\n",
      "[LightGBM] [Warning] min_data_in_leaf is set=300, min_child_samples=20 will be ignored. Current value: min_data_in_leaf=300\n",
      "[LightGBM] [Warning] min_data_in_leaf is set=300, min_child_samples=20 will be ignored. Current value: min_data_in_leaf=300\n",
      "[LightGBM] [Warning] min_data_in_leaf is set=300, min_child_samples=20 will be ignored. Current value: min_data_in_leaf=300\n",
      "[LightGBM] [Warning] min_data_in_leaf is set=300, min_child_samples=20 will be ignored. Current value: min_data_in_leaf=300\n"
     ]
    },
    {
     "name": "stdout",
     "output_type": "stream",
     "text": [
      "[LightGBM] [Warning] min_data_in_leaf is set=300, min_child_samples=20 will be ignored. Current value: min_data_in_leaf=300\n",
      "[LightGBM] [Warning] min_data_in_leaf is set=300, min_child_samples=20 will be ignored. Current value: min_data_in_leaf=300\n",
      "[LightGBM] [Warning] min_data_in_leaf is set=300, min_child_samples=20 will be ignored. Current value: min_data_in_leaf=300\n",
      "[LightGBM] [Warning] min_data_in_leaf is set=300, min_child_samples=20 will be ignored. Current value: min_data_in_leaf=300\n",
      "[LightGBM] [Warning] min_data_in_leaf is set=300, min_child_samples=20 will be ignored. Current value: min_data_in_leaf=300\n",
      "[LightGBM] [Warning] min_data_in_leaf is set=300, min_child_samples=20 will be ignored. Current value: min_data_in_leaf=300\n",
      "[LightGBM] [Warning] min_data_in_leaf is set=300, min_child_samples=20 will be ignored. Current value: min_data_in_leaf=300\n",
      "[LightGBM] [Warning] min_data_in_leaf is set=300, min_child_samples=20 will be ignored. Current value: min_data_in_leaf=300\n",
      "[LightGBM] [Warning] min_data_in_leaf is set=400, min_child_samples=20 will be ignored. Current value: min_data_in_leaf=400\n",
      "[LightGBM] [Warning] min_data_in_leaf is set=400, min_child_samples=20 will be ignored. Current value: min_data_in_leaf=400\n",
      "[LightGBM] [Warning] min_data_in_leaf is set=400, min_child_samples=20 will be ignored. Current value: min_data_in_leaf=400\n",
      "[LightGBM] [Warning] min_data_in_leaf is set=400, min_child_samples=20 will be ignored. Current value: min_data_in_leaf=400\n",
      "[LightGBM] [Warning] min_data_in_leaf is set=400, min_child_samples=20 will be ignored. Current value: min_data_in_leaf=400\n",
      "[LightGBM] [Warning] min_data_in_leaf is set=400, min_child_samples=20 will be ignored. Current value: min_data_in_leaf=400\n",
      "[LightGBM] [Warning] min_data_in_leaf is set=400, min_child_samples=20 will be ignored. Current value: min_data_in_leaf=400\n",
      "[LightGBM] [Warning] min_data_in_leaf is set=400, min_child_samples=20 will be ignored. Current value: min_data_in_leaf=400\n",
      "[LightGBM] [Warning] min_data_in_leaf is set=400, min_child_samples=20 will be ignored. Current value: min_data_in_leaf=400\n",
      "[LightGBM] [Warning] min_data_in_leaf is set=400, min_child_samples=20 will be ignored. Current value: min_data_in_leaf=400\n",
      "[LightGBM] [Warning] min_data_in_leaf is set=400, min_child_samples=20 will be ignored. Current value: min_data_in_leaf=400\n",
      "[LightGBM] [Warning] min_data_in_leaf is set=400, min_child_samples=20 will be ignored. Current value: min_data_in_leaf=400\n",
      "[LightGBM] [Warning] min_data_in_leaf is set=400, min_child_samples=20 will be ignored. Current value: min_data_in_leaf=400\n",
      "[LightGBM] [Warning] min_data_in_leaf is set=400, min_child_samples=20 will be ignored. Current value: min_data_in_leaf=400\n",
      "[LightGBM] [Warning] min_data_in_leaf is set=400, min_child_samples=20 will be ignored. Current value: min_data_in_leaf=400\n",
      "[LightGBM] [Warning] min_data_in_leaf is set=200, min_child_samples=20 will be ignored. Current value: min_data_in_leaf=200\n",
      "[LightGBM] [Warning] min_data_in_leaf is set=200, min_child_samples=20 will be ignored. Current value: min_data_in_leaf=200\n",
      "[LightGBM] [Warning] min_data_in_leaf is set=200, min_child_samples=20 will be ignored. Current value: min_data_in_leaf=200\n",
      "[LightGBM] [Warning] min_data_in_leaf is set=200, min_child_samples=20 will be ignored. Current value: min_data_in_leaf=200\n",
      "[LightGBM] [Warning] min_data_in_leaf is set=200, min_child_samples=20 will be ignored. Current value: min_data_in_leaf=200\n",
      "[LightGBM] [Warning] min_data_in_leaf is set=200, min_child_samples=20 will be ignored. Current value: min_data_in_leaf=200\n",
      "[LightGBM] [Warning] min_data_in_leaf is set=200, min_child_samples=20 will be ignored. Current value: min_data_in_leaf=200\n",
      "[LightGBM] [Warning] min_data_in_leaf is set=200, min_child_samples=20 will be ignored. Current value: min_data_in_leaf=200\n",
      "[LightGBM] [Warning] min_data_in_leaf is set=200, min_child_samples=20 will be ignored. Current value: min_data_in_leaf=200\n",
      "[LightGBM] [Warning] min_data_in_leaf is set=200, min_child_samples=20 will be ignored. Current value: min_data_in_leaf=200\n",
      "[LightGBM] [Warning] min_data_in_leaf is set=200, min_child_samples=20 will be ignored. Current value: min_data_in_leaf=200\n",
      "[LightGBM] [Warning] min_data_in_leaf is set=200, min_child_samples=20 will be ignored. Current value: min_data_in_leaf=200\n",
      "[LightGBM] [Warning] min_data_in_leaf is set=200, min_child_samples=20 will be ignored. Current value: min_data_in_leaf=200\n",
      "[LightGBM] [Warning] min_data_in_leaf is set=200, min_child_samples=20 will be ignored. Current value: min_data_in_leaf=200\n",
      "[LightGBM] [Warning] min_data_in_leaf is set=200, min_child_samples=20 will be ignored. Current value: min_data_in_leaf=200\n",
      "[LightGBM] [Warning] min_data_in_leaf is set=300, min_child_samples=20 will be ignored. Current value: min_data_in_leaf=300\n",
      "[LightGBM] [Warning] min_data_in_leaf is set=300, min_child_samples=20 will be ignored. Current value: min_data_in_leaf=300\n",
      "[LightGBM] [Warning] min_data_in_leaf is set=300, min_child_samples=20 will be ignored. Current value: min_data_in_leaf=300\n",
      "[LightGBM] [Warning] min_data_in_leaf is set=300, min_child_samples=20 will be ignored. Current value: min_data_in_leaf=300\n",
      "[LightGBM] [Warning] min_data_in_leaf is set=300, min_child_samples=20 will be ignored. Current value: min_data_in_leaf=300\n",
      "[LightGBM] [Warning] min_data_in_leaf is set=300, min_child_samples=20 will be ignored. Current value: min_data_in_leaf=300\n",
      "[LightGBM] [Warning] min_data_in_leaf is set=300, min_child_samples=20 will be ignored. Current value: min_data_in_leaf=300\n",
      "[LightGBM] [Warning] min_data_in_leaf is set=300, min_child_samples=20 will be ignored. Current value: min_data_in_leaf=300\n",
      "[LightGBM] [Warning] min_data_in_leaf is set=300, min_child_samples=20 will be ignored. Current value: min_data_in_leaf=300\n",
      "[LightGBM] [Warning] min_data_in_leaf is set=300, min_child_samples=20 will be ignored. Current value: min_data_in_leaf=300\n",
      "[LightGBM] [Warning] min_data_in_leaf is set=300, min_child_samples=20 will be ignored. Current value: min_data_in_leaf=300\n",
      "[LightGBM] [Warning] min_data_in_leaf is set=300, min_child_samples=20 will be ignored. Current value: min_data_in_leaf=300\n",
      "[LightGBM] [Warning] min_data_in_leaf is set=300, min_child_samples=20 will be ignored. Current value: min_data_in_leaf=300\n",
      "[LightGBM] [Warning] min_data_in_leaf is set=300, min_child_samples=20 will be ignored. Current value: min_data_in_leaf=300\n",
      "[LightGBM] [Warning] min_data_in_leaf is set=300, min_child_samples=20 will be ignored. Current value: min_data_in_leaf=300\n",
      "[LightGBM] [Warning] min_data_in_leaf is set=400, min_child_samples=20 will be ignored. Current value: min_data_in_leaf=400\n",
      "[LightGBM] [Warning] min_data_in_leaf is set=400, min_child_samples=20 will be ignored. Current value: min_data_in_leaf=400\n",
      "[LightGBM] [Warning] min_data_in_leaf is set=400, min_child_samples=20 will be ignored. Current value: min_data_in_leaf=400\n",
      "[LightGBM] [Warning] min_data_in_leaf is set=400, min_child_samples=20 will be ignored. Current value: min_data_in_leaf=400\n",
      "[LightGBM] [Warning] min_data_in_leaf is set=400, min_child_samples=20 will be ignored. Current value: min_data_in_leaf=400\n",
      "[LightGBM] [Warning] min_data_in_leaf is set=400, min_child_samples=20 will be ignored. Current value: min_data_in_leaf=400\n",
      "[LightGBM] [Warning] min_data_in_leaf is set=400, min_child_samples=20 will be ignored. Current value: min_data_in_leaf=400\n",
      "[LightGBM] [Warning] min_data_in_leaf is set=400, min_child_samples=20 will be ignored. Current value: min_data_in_leaf=400\n",
      "[LightGBM] [Warning] min_data_in_leaf is set=400, min_child_samples=20 will be ignored. Current value: min_data_in_leaf=400\n",
      "[LightGBM] [Warning] min_data_in_leaf is set=400, min_child_samples=20 will be ignored. Current value: min_data_in_leaf=400\n",
      "[LightGBM] [Warning] min_data_in_leaf is set=400, min_child_samples=20 will be ignored. Current value: min_data_in_leaf=400\n",
      "[LightGBM] [Warning] min_data_in_leaf is set=400, min_child_samples=20 will be ignored. Current value: min_data_in_leaf=400\n",
      "[LightGBM] [Warning] min_data_in_leaf is set=400, min_child_samples=20 will be ignored. Current value: min_data_in_leaf=400\n",
      "[LightGBM] [Warning] min_data_in_leaf is set=400, min_child_samples=20 will be ignored. Current value: min_data_in_leaf=400\n"
     ]
    },
    {
     "name": "stdout",
     "output_type": "stream",
     "text": [
      "[LightGBM] [Warning] min_data_in_leaf is set=400, min_child_samples=20 will be ignored. Current value: min_data_in_leaf=400\n",
      "[LightGBM] [Warning] min_data_in_leaf is set=200, min_child_samples=20 will be ignored. Current value: min_data_in_leaf=200\n",
      "[LightGBM] [Warning] min_data_in_leaf is set=200, min_child_samples=20 will be ignored. Current value: min_data_in_leaf=200\n",
      "[LightGBM] [Warning] min_data_in_leaf is set=200, min_child_samples=20 will be ignored. Current value: min_data_in_leaf=200\n",
      "[LightGBM] [Warning] min_data_in_leaf is set=200, min_child_samples=20 will be ignored. Current value: min_data_in_leaf=200\n",
      "[LightGBM] [Warning] min_data_in_leaf is set=200, min_child_samples=20 will be ignored. Current value: min_data_in_leaf=200\n",
      "[LightGBM] [Warning] min_data_in_leaf is set=200, min_child_samples=20 will be ignored. Current value: min_data_in_leaf=200\n",
      "[LightGBM] [Warning] min_data_in_leaf is set=200, min_child_samples=20 will be ignored. Current value: min_data_in_leaf=200\n",
      "[LightGBM] [Warning] min_data_in_leaf is set=200, min_child_samples=20 will be ignored. Current value: min_data_in_leaf=200\n",
      "[LightGBM] [Warning] min_data_in_leaf is set=200, min_child_samples=20 will be ignored. Current value: min_data_in_leaf=200\n",
      "[LightGBM] [Warning] min_data_in_leaf is set=200, min_child_samples=20 will be ignored. Current value: min_data_in_leaf=200\n",
      "[LightGBM] [Warning] min_data_in_leaf is set=200, min_child_samples=20 will be ignored. Current value: min_data_in_leaf=200\n",
      "[LightGBM] [Warning] min_data_in_leaf is set=200, min_child_samples=20 will be ignored. Current value: min_data_in_leaf=200\n",
      "[LightGBM] [Warning] min_data_in_leaf is set=200, min_child_samples=20 will be ignored. Current value: min_data_in_leaf=200\n",
      "[LightGBM] [Warning] min_data_in_leaf is set=200, min_child_samples=20 will be ignored. Current value: min_data_in_leaf=200\n",
      "[LightGBM] [Warning] min_data_in_leaf is set=200, min_child_samples=20 will be ignored. Current value: min_data_in_leaf=200\n",
      "[LightGBM] [Warning] min_data_in_leaf is set=300, min_child_samples=20 will be ignored. Current value: min_data_in_leaf=300\n",
      "[LightGBM] [Warning] min_data_in_leaf is set=300, min_child_samples=20 will be ignored. Current value: min_data_in_leaf=300\n",
      "[LightGBM] [Warning] min_data_in_leaf is set=300, min_child_samples=20 will be ignored. Current value: min_data_in_leaf=300\n",
      "[LightGBM] [Warning] min_data_in_leaf is set=300, min_child_samples=20 will be ignored. Current value: min_data_in_leaf=300\n",
      "[LightGBM] [Warning] min_data_in_leaf is set=300, min_child_samples=20 will be ignored. Current value: min_data_in_leaf=300\n",
      "[LightGBM] [Warning] min_data_in_leaf is set=300, min_child_samples=20 will be ignored. Current value: min_data_in_leaf=300\n",
      "[LightGBM] [Warning] min_data_in_leaf is set=300, min_child_samples=20 will be ignored. Current value: min_data_in_leaf=300\n",
      "[LightGBM] [Warning] min_data_in_leaf is set=300, min_child_samples=20 will be ignored. Current value: min_data_in_leaf=300\n",
      "[LightGBM] [Warning] min_data_in_leaf is set=300, min_child_samples=20 will be ignored. Current value: min_data_in_leaf=300\n",
      "[LightGBM] [Warning] min_data_in_leaf is set=300, min_child_samples=20 will be ignored. Current value: min_data_in_leaf=300\n",
      "[LightGBM] [Warning] min_data_in_leaf is set=300, min_child_samples=20 will be ignored. Current value: min_data_in_leaf=300\n",
      "[LightGBM] [Warning] min_data_in_leaf is set=300, min_child_samples=20 will be ignored. Current value: min_data_in_leaf=300\n",
      "[LightGBM] [Warning] min_data_in_leaf is set=300, min_child_samples=20 will be ignored. Current value: min_data_in_leaf=300\n",
      "[LightGBM] [Warning] min_data_in_leaf is set=300, min_child_samples=20 will be ignored. Current value: min_data_in_leaf=300\n",
      "[LightGBM] [Warning] min_data_in_leaf is set=300, min_child_samples=20 will be ignored. Current value: min_data_in_leaf=300\n",
      "[LightGBM] [Warning] min_data_in_leaf is set=400, min_child_samples=20 will be ignored. Current value: min_data_in_leaf=400\n",
      "[LightGBM] [Warning] min_data_in_leaf is set=400, min_child_samples=20 will be ignored. Current value: min_data_in_leaf=400\n",
      "[LightGBM] [Warning] min_data_in_leaf is set=400, min_child_samples=20 will be ignored. Current value: min_data_in_leaf=400\n",
      "[LightGBM] [Warning] min_data_in_leaf is set=400, min_child_samples=20 will be ignored. Current value: min_data_in_leaf=400\n",
      "[LightGBM] [Warning] min_data_in_leaf is set=400, min_child_samples=20 will be ignored. Current value: min_data_in_leaf=400\n",
      "[LightGBM] [Warning] min_data_in_leaf is set=400, min_child_samples=20 will be ignored. Current value: min_data_in_leaf=400\n",
      "[LightGBM] [Warning] min_data_in_leaf is set=400, min_child_samples=20 will be ignored. Current value: min_data_in_leaf=400\n",
      "[LightGBM] [Warning] min_data_in_leaf is set=400, min_child_samples=20 will be ignored. Current value: min_data_in_leaf=400\n",
      "[LightGBM] [Warning] min_data_in_leaf is set=400, min_child_samples=20 will be ignored. Current value: min_data_in_leaf=400\n",
      "[LightGBM] [Warning] min_data_in_leaf is set=400, min_child_samples=20 will be ignored. Current value: min_data_in_leaf=400\n",
      "[LightGBM] [Warning] min_data_in_leaf is set=400, min_child_samples=20 will be ignored. Current value: min_data_in_leaf=400\n",
      "[LightGBM] [Warning] min_data_in_leaf is set=400, min_child_samples=20 will be ignored. Current value: min_data_in_leaf=400\n",
      "[LightGBM] [Warning] min_data_in_leaf is set=400, min_child_samples=20 will be ignored. Current value: min_data_in_leaf=400\n",
      "[LightGBM] [Warning] min_data_in_leaf is set=400, min_child_samples=20 will be ignored. Current value: min_data_in_leaf=400\n",
      "[LightGBM] [Warning] min_data_in_leaf is set=400, min_child_samples=20 will be ignored. Current value: min_data_in_leaf=400\n",
      "[LightGBM] [Warning] min_data_in_leaf is set=200, min_child_samples=20 will be ignored. Current value: min_data_in_leaf=200\n",
      "[LightGBM] [Warning] min_data_in_leaf is set=200, min_child_samples=20 will be ignored. Current value: min_data_in_leaf=200\n",
      "[LightGBM] [Warning] min_data_in_leaf is set=200, min_child_samples=20 will be ignored. Current value: min_data_in_leaf=200\n",
      "[LightGBM] [Warning] min_data_in_leaf is set=200, min_child_samples=20 will be ignored. Current value: min_data_in_leaf=200\n",
      "[LightGBM] [Warning] min_data_in_leaf is set=200, min_child_samples=20 will be ignored. Current value: min_data_in_leaf=200\n",
      "[LightGBM] [Warning] min_data_in_leaf is set=200, min_child_samples=20 will be ignored. Current value: min_data_in_leaf=200\n",
      "[LightGBM] [Warning] min_data_in_leaf is set=200, min_child_samples=20 will be ignored. Current value: min_data_in_leaf=200\n",
      "[LightGBM] [Warning] min_data_in_leaf is set=200, min_child_samples=20 will be ignored. Current value: min_data_in_leaf=200\n",
      "[LightGBM] [Warning] min_data_in_leaf is set=200, min_child_samples=20 will be ignored. Current value: min_data_in_leaf=200\n",
      "[LightGBM] [Warning] min_data_in_leaf is set=200, min_child_samples=20 will be ignored. Current value: min_data_in_leaf=200\n",
      "[LightGBM] [Warning] min_data_in_leaf is set=200, min_child_samples=20 will be ignored. Current value: min_data_in_leaf=200\n",
      "[LightGBM] [Warning] min_data_in_leaf is set=200, min_child_samples=20 will be ignored. Current value: min_data_in_leaf=200\n",
      "[LightGBM] [Warning] min_data_in_leaf is set=200, min_child_samples=20 will be ignored. Current value: min_data_in_leaf=200\n",
      "[LightGBM] [Warning] min_data_in_leaf is set=200, min_child_samples=20 will be ignored. Current value: min_data_in_leaf=200\n",
      "[LightGBM] [Warning] min_data_in_leaf is set=200, min_child_samples=20 will be ignored. Current value: min_data_in_leaf=200\n",
      "[LightGBM] [Warning] min_data_in_leaf is set=300, min_child_samples=20 will be ignored. Current value: min_data_in_leaf=300\n",
      "[LightGBM] [Warning] min_data_in_leaf is set=300, min_child_samples=20 will be ignored. Current value: min_data_in_leaf=300\n",
      "[LightGBM] [Warning] min_data_in_leaf is set=300, min_child_samples=20 will be ignored. Current value: min_data_in_leaf=300\n",
      "[LightGBM] [Warning] min_data_in_leaf is set=300, min_child_samples=20 will be ignored. Current value: min_data_in_leaf=300\n",
      "[LightGBM] [Warning] min_data_in_leaf is set=300, min_child_samples=20 will be ignored. Current value: min_data_in_leaf=300\n",
      "[LightGBM] [Warning] min_data_in_leaf is set=300, min_child_samples=20 will be ignored. Current value: min_data_in_leaf=300\n"
     ]
    },
    {
     "name": "stdout",
     "output_type": "stream",
     "text": [
      "[LightGBM] [Warning] min_data_in_leaf is set=300, min_child_samples=20 will be ignored. Current value: min_data_in_leaf=300\n",
      "[LightGBM] [Warning] min_data_in_leaf is set=300, min_child_samples=20 will be ignored. Current value: min_data_in_leaf=300\n",
      "[LightGBM] [Warning] min_data_in_leaf is set=300, min_child_samples=20 will be ignored. Current value: min_data_in_leaf=300\n",
      "[LightGBM] [Warning] min_data_in_leaf is set=300, min_child_samples=20 will be ignored. Current value: min_data_in_leaf=300\n",
      "[LightGBM] [Warning] min_data_in_leaf is set=300, min_child_samples=20 will be ignored. Current value: min_data_in_leaf=300\n",
      "[LightGBM] [Warning] min_data_in_leaf is set=300, min_child_samples=20 will be ignored. Current value: min_data_in_leaf=300\n",
      "[LightGBM] [Warning] min_data_in_leaf is set=300, min_child_samples=20 will be ignored. Current value: min_data_in_leaf=300\n",
      "[LightGBM] [Warning] min_data_in_leaf is set=300, min_child_samples=20 will be ignored. Current value: min_data_in_leaf=300\n",
      "[LightGBM] [Warning] min_data_in_leaf is set=300, min_child_samples=20 will be ignored. Current value: min_data_in_leaf=300\n",
      "[LightGBM] [Warning] min_data_in_leaf is set=400, min_child_samples=20 will be ignored. Current value: min_data_in_leaf=400\n",
      "[LightGBM] [Warning] min_data_in_leaf is set=400, min_child_samples=20 will be ignored. Current value: min_data_in_leaf=400\n",
      "[LightGBM] [Warning] min_data_in_leaf is set=400, min_child_samples=20 will be ignored. Current value: min_data_in_leaf=400\n",
      "[LightGBM] [Warning] min_data_in_leaf is set=400, min_child_samples=20 will be ignored. Current value: min_data_in_leaf=400\n",
      "[LightGBM] [Warning] min_data_in_leaf is set=400, min_child_samples=20 will be ignored. Current value: min_data_in_leaf=400\n",
      "[LightGBM] [Warning] min_data_in_leaf is set=400, min_child_samples=20 will be ignored. Current value: min_data_in_leaf=400\n",
      "[LightGBM] [Warning] min_data_in_leaf is set=400, min_child_samples=20 will be ignored. Current value: min_data_in_leaf=400\n",
      "[LightGBM] [Warning] min_data_in_leaf is set=400, min_child_samples=20 will be ignored. Current value: min_data_in_leaf=400\n",
      "[LightGBM] [Warning] min_data_in_leaf is set=400, min_child_samples=20 will be ignored. Current value: min_data_in_leaf=400\n",
      "[LightGBM] [Warning] min_data_in_leaf is set=400, min_child_samples=20 will be ignored. Current value: min_data_in_leaf=400\n",
      "[LightGBM] [Warning] min_data_in_leaf is set=400, min_child_samples=20 will be ignored. Current value: min_data_in_leaf=400\n",
      "[LightGBM] [Warning] min_data_in_leaf is set=400, min_child_samples=20 will be ignored. Current value: min_data_in_leaf=400\n",
      "[LightGBM] [Warning] min_data_in_leaf is set=400, min_child_samples=20 will be ignored. Current value: min_data_in_leaf=400\n",
      "[LightGBM] [Warning] min_data_in_leaf is set=400, min_child_samples=20 will be ignored. Current value: min_data_in_leaf=400\n",
      "[LightGBM] [Warning] min_data_in_leaf is set=400, min_child_samples=20 will be ignored. Current value: min_data_in_leaf=400\n",
      "[LightGBM] [Warning] min_data_in_leaf is set=200, min_child_samples=20 will be ignored. Current value: min_data_in_leaf=200\n",
      "[LightGBM] [Warning] min_data_in_leaf is set=200, min_child_samples=20 will be ignored. Current value: min_data_in_leaf=200\n",
      "[LightGBM] [Warning] min_data_in_leaf is set=200, min_child_samples=20 will be ignored. Current value: min_data_in_leaf=200\n",
      "[LightGBM] [Warning] min_data_in_leaf is set=200, min_child_samples=20 will be ignored. Current value: min_data_in_leaf=200\n",
      "[LightGBM] [Warning] min_data_in_leaf is set=200, min_child_samples=20 will be ignored. Current value: min_data_in_leaf=200\n",
      "[LightGBM] [Warning] min_data_in_leaf is set=200, min_child_samples=20 will be ignored. Current value: min_data_in_leaf=200\n",
      "[LightGBM] [Warning] min_data_in_leaf is set=200, min_child_samples=20 will be ignored. Current value: min_data_in_leaf=200\n",
      "[LightGBM] [Warning] min_data_in_leaf is set=200, min_child_samples=20 will be ignored. Current value: min_data_in_leaf=200\n",
      "[LightGBM] [Warning] min_data_in_leaf is set=200, min_child_samples=20 will be ignored. Current value: min_data_in_leaf=200\n",
      "[LightGBM] [Warning] min_data_in_leaf is set=200, min_child_samples=20 will be ignored. Current value: min_data_in_leaf=200\n",
      "[LightGBM] [Warning] min_data_in_leaf is set=200, min_child_samples=20 will be ignored. Current value: min_data_in_leaf=200\n",
      "[LightGBM] [Warning] min_data_in_leaf is set=200, min_child_samples=20 will be ignored. Current value: min_data_in_leaf=200\n",
      "[LightGBM] [Warning] min_data_in_leaf is set=200, min_child_samples=20 will be ignored. Current value: min_data_in_leaf=200\n",
      "[LightGBM] [Warning] min_data_in_leaf is set=200, min_child_samples=20 will be ignored. Current value: min_data_in_leaf=200\n",
      "[LightGBM] [Warning] min_data_in_leaf is set=200, min_child_samples=20 will be ignored. Current value: min_data_in_leaf=200\n",
      "[LightGBM] [Warning] min_data_in_leaf is set=300, min_child_samples=20 will be ignored. Current value: min_data_in_leaf=300\n",
      "[LightGBM] [Warning] min_data_in_leaf is set=300, min_child_samples=20 will be ignored. Current value: min_data_in_leaf=300\n",
      "[LightGBM] [Warning] min_data_in_leaf is set=300, min_child_samples=20 will be ignored. Current value: min_data_in_leaf=300\n",
      "[LightGBM] [Warning] min_data_in_leaf is set=300, min_child_samples=20 will be ignored. Current value: min_data_in_leaf=300\n",
      "[LightGBM] [Warning] min_data_in_leaf is set=300, min_child_samples=20 will be ignored. Current value: min_data_in_leaf=300\n",
      "[LightGBM] [Warning] min_data_in_leaf is set=300, min_child_samples=20 will be ignored. Current value: min_data_in_leaf=300\n",
      "[LightGBM] [Warning] min_data_in_leaf is set=300, min_child_samples=20 will be ignored. Current value: min_data_in_leaf=300\n",
      "[LightGBM] [Warning] min_data_in_leaf is set=300, min_child_samples=20 will be ignored. Current value: min_data_in_leaf=300\n",
      "[LightGBM] [Warning] min_data_in_leaf is set=300, min_child_samples=20 will be ignored. Current value: min_data_in_leaf=300\n",
      "[LightGBM] [Warning] min_data_in_leaf is set=300, min_child_samples=20 will be ignored. Current value: min_data_in_leaf=300\n",
      "[LightGBM] [Warning] min_data_in_leaf is set=300, min_child_samples=20 will be ignored. Current value: min_data_in_leaf=300\n",
      "[LightGBM] [Warning] min_data_in_leaf is set=300, min_child_samples=20 will be ignored. Current value: min_data_in_leaf=300\n",
      "[LightGBM] [Warning] min_data_in_leaf is set=300, min_child_samples=20 will be ignored. Current value: min_data_in_leaf=300\n",
      "[LightGBM] [Warning] min_data_in_leaf is set=300, min_child_samples=20 will be ignored. Current value: min_data_in_leaf=300\n",
      "[LightGBM] [Warning] min_data_in_leaf is set=300, min_child_samples=20 will be ignored. Current value: min_data_in_leaf=300\n",
      "[LightGBM] [Warning] min_data_in_leaf is set=400, min_child_samples=20 will be ignored. Current value: min_data_in_leaf=400\n",
      "[LightGBM] [Warning] min_data_in_leaf is set=400, min_child_samples=20 will be ignored. Current value: min_data_in_leaf=400\n",
      "[LightGBM] [Warning] min_data_in_leaf is set=400, min_child_samples=20 will be ignored. Current value: min_data_in_leaf=400\n",
      "[LightGBM] [Warning] min_data_in_leaf is set=400, min_child_samples=20 will be ignored. Current value: min_data_in_leaf=400\n",
      "[LightGBM] [Warning] min_data_in_leaf is set=400, min_child_samples=20 will be ignored. Current value: min_data_in_leaf=400\n",
      "[LightGBM] [Warning] min_data_in_leaf is set=400, min_child_samples=20 will be ignored. Current value: min_data_in_leaf=400\n",
      "[LightGBM] [Warning] min_data_in_leaf is set=400, min_child_samples=20 will be ignored. Current value: min_data_in_leaf=400\n",
      "[LightGBM] [Warning] min_data_in_leaf is set=400, min_child_samples=20 will be ignored. Current value: min_data_in_leaf=400\n",
      "[LightGBM] [Warning] min_data_in_leaf is set=400, min_child_samples=20 will be ignored. Current value: min_data_in_leaf=400\n",
      "[LightGBM] [Warning] min_data_in_leaf is set=400, min_child_samples=20 will be ignored. Current value: min_data_in_leaf=400\n",
      "[LightGBM] [Warning] min_data_in_leaf is set=400, min_child_samples=20 will be ignored. Current value: min_data_in_leaf=400\n",
      "[LightGBM] [Warning] min_data_in_leaf is set=400, min_child_samples=20 will be ignored. Current value: min_data_in_leaf=400\n",
      "[LightGBM] [Warning] min_data_in_leaf is set=400, min_child_samples=20 will be ignored. Current value: min_data_in_leaf=400\n"
     ]
    },
    {
     "name": "stdout",
     "output_type": "stream",
     "text": [
      "[LightGBM] [Warning] min_data_in_leaf is set=400, min_child_samples=20 will be ignored. Current value: min_data_in_leaf=400\n",
      "[LightGBM] [Warning] min_data_in_leaf is set=400, min_child_samples=20 will be ignored. Current value: min_data_in_leaf=400\n",
      "[LightGBM] [Warning] min_data_in_leaf is set=200, min_child_samples=20 will be ignored. Current value: min_data_in_leaf=200\n",
      "[LightGBM] [Warning] min_data_in_leaf is set=200, min_child_samples=20 will be ignored. Current value: min_data_in_leaf=200\n",
      "[LightGBM] [Warning] min_data_in_leaf is set=200, min_child_samples=20 will be ignored. Current value: min_data_in_leaf=200\n",
      "[LightGBM] [Warning] min_data_in_leaf is set=200, min_child_samples=20 will be ignored. Current value: min_data_in_leaf=200\n",
      "[LightGBM] [Warning] min_data_in_leaf is set=200, min_child_samples=20 will be ignored. Current value: min_data_in_leaf=200\n",
      "[LightGBM] [Warning] min_data_in_leaf is set=200, min_child_samples=20 will be ignored. Current value: min_data_in_leaf=200\n",
      "[LightGBM] [Warning] min_data_in_leaf is set=200, min_child_samples=20 will be ignored. Current value: min_data_in_leaf=200\n",
      "[LightGBM] [Warning] min_data_in_leaf is set=200, min_child_samples=20 will be ignored. Current value: min_data_in_leaf=200\n",
      "[LightGBM] [Warning] min_data_in_leaf is set=200, min_child_samples=20 will be ignored. Current value: min_data_in_leaf=200\n",
      "[LightGBM] [Warning] min_data_in_leaf is set=200, min_child_samples=20 will be ignored. Current value: min_data_in_leaf=200\n",
      "[LightGBM] [Warning] min_data_in_leaf is set=200, min_child_samples=20 will be ignored. Current value: min_data_in_leaf=200\n",
      "[LightGBM] [Warning] min_data_in_leaf is set=200, min_child_samples=20 will be ignored. Current value: min_data_in_leaf=200\n",
      "[LightGBM] [Warning] min_data_in_leaf is set=200, min_child_samples=20 will be ignored. Current value: min_data_in_leaf=200\n",
      "[LightGBM] [Warning] min_data_in_leaf is set=200, min_child_samples=20 will be ignored. Current value: min_data_in_leaf=200\n",
      "[LightGBM] [Warning] min_data_in_leaf is set=200, min_child_samples=20 will be ignored. Current value: min_data_in_leaf=200\n",
      "[LightGBM] [Warning] min_data_in_leaf is set=300, min_child_samples=20 will be ignored. Current value: min_data_in_leaf=300\n",
      "[LightGBM] [Warning] min_data_in_leaf is set=300, min_child_samples=20 will be ignored. Current value: min_data_in_leaf=300\n",
      "[LightGBM] [Warning] min_data_in_leaf is set=300, min_child_samples=20 will be ignored. Current value: min_data_in_leaf=300\n",
      "[LightGBM] [Warning] min_data_in_leaf is set=300, min_child_samples=20 will be ignored. Current value: min_data_in_leaf=300\n",
      "[LightGBM] [Warning] min_data_in_leaf is set=300, min_child_samples=20 will be ignored. Current value: min_data_in_leaf=300\n",
      "[LightGBM] [Warning] min_data_in_leaf is set=300, min_child_samples=20 will be ignored. Current value: min_data_in_leaf=300\n",
      "[LightGBM] [Warning] min_data_in_leaf is set=300, min_child_samples=20 will be ignored. Current value: min_data_in_leaf=300\n",
      "[LightGBM] [Warning] min_data_in_leaf is set=300, min_child_samples=20 will be ignored. Current value: min_data_in_leaf=300\n",
      "[LightGBM] [Warning] min_data_in_leaf is set=300, min_child_samples=20 will be ignored. Current value: min_data_in_leaf=300\n",
      "[LightGBM] [Warning] min_data_in_leaf is set=300, min_child_samples=20 will be ignored. Current value: min_data_in_leaf=300\n",
      "[LightGBM] [Warning] min_data_in_leaf is set=300, min_child_samples=20 will be ignored. Current value: min_data_in_leaf=300\n",
      "[LightGBM] [Warning] min_data_in_leaf is set=300, min_child_samples=20 will be ignored. Current value: min_data_in_leaf=300\n",
      "[LightGBM] [Warning] min_data_in_leaf is set=300, min_child_samples=20 will be ignored. Current value: min_data_in_leaf=300\n",
      "[LightGBM] [Warning] min_data_in_leaf is set=300, min_child_samples=20 will be ignored. Current value: min_data_in_leaf=300\n",
      "[LightGBM] [Warning] min_data_in_leaf is set=300, min_child_samples=20 will be ignored. Current value: min_data_in_leaf=300\n",
      "[LightGBM] [Warning] min_data_in_leaf is set=400, min_child_samples=20 will be ignored. Current value: min_data_in_leaf=400\n",
      "[LightGBM] [Warning] min_data_in_leaf is set=400, min_child_samples=20 will be ignored. Current value: min_data_in_leaf=400\n",
      "[LightGBM] [Warning] min_data_in_leaf is set=400, min_child_samples=20 will be ignored. Current value: min_data_in_leaf=400\n",
      "[LightGBM] [Warning] min_data_in_leaf is set=400, min_child_samples=20 will be ignored. Current value: min_data_in_leaf=400\n",
      "[LightGBM] [Warning] min_data_in_leaf is set=400, min_child_samples=20 will be ignored. Current value: min_data_in_leaf=400\n",
      "[LightGBM] [Warning] min_data_in_leaf is set=400, min_child_samples=20 will be ignored. Current value: min_data_in_leaf=400\n",
      "[LightGBM] [Warning] min_data_in_leaf is set=400, min_child_samples=20 will be ignored. Current value: min_data_in_leaf=400\n",
      "[LightGBM] [Warning] min_data_in_leaf is set=400, min_child_samples=20 will be ignored. Current value: min_data_in_leaf=400\n",
      "[LightGBM] [Warning] min_data_in_leaf is set=400, min_child_samples=20 will be ignored. Current value: min_data_in_leaf=400\n",
      "[LightGBM] [Warning] min_data_in_leaf is set=400, min_child_samples=20 will be ignored. Current value: min_data_in_leaf=400\n",
      "[LightGBM] [Warning] min_data_in_leaf is set=400, min_child_samples=20 will be ignored. Current value: min_data_in_leaf=400\n",
      "[LightGBM] [Warning] min_data_in_leaf is set=400, min_child_samples=20 will be ignored. Current value: min_data_in_leaf=400\n",
      "[LightGBM] [Warning] min_data_in_leaf is set=400, min_child_samples=20 will be ignored. Current value: min_data_in_leaf=400\n",
      "[LightGBM] [Warning] min_data_in_leaf is set=400, min_child_samples=20 will be ignored. Current value: min_data_in_leaf=400\n",
      "[LightGBM] [Warning] min_data_in_leaf is set=400, min_child_samples=20 will be ignored. Current value: min_data_in_leaf=400\n",
      "[LightGBM] [Warning] min_data_in_leaf is set=200, min_child_samples=20 will be ignored. Current value: min_data_in_leaf=200\n",
      "[LightGBM] [Warning] min_data_in_leaf is set=200, min_child_samples=20 will be ignored. Current value: min_data_in_leaf=200\n",
      "[LightGBM] [Warning] min_data_in_leaf is set=200, min_child_samples=20 will be ignored. Current value: min_data_in_leaf=200\n",
      "[LightGBM] [Warning] min_data_in_leaf is set=200, min_child_samples=20 will be ignored. Current value: min_data_in_leaf=200\n",
      "[LightGBM] [Warning] min_data_in_leaf is set=200, min_child_samples=20 will be ignored. Current value: min_data_in_leaf=200\n",
      "[LightGBM] [Warning] min_data_in_leaf is set=200, min_child_samples=20 will be ignored. Current value: min_data_in_leaf=200\n",
      "[LightGBM] [Warning] min_data_in_leaf is set=200, min_child_samples=20 will be ignored. Current value: min_data_in_leaf=200\n",
      "[LightGBM] [Warning] min_data_in_leaf is set=200, min_child_samples=20 will be ignored. Current value: min_data_in_leaf=200\n",
      "[LightGBM] [Warning] min_data_in_leaf is set=200, min_child_samples=20 will be ignored. Current value: min_data_in_leaf=200\n",
      "[LightGBM] [Warning] min_data_in_leaf is set=200, min_child_samples=20 will be ignored. Current value: min_data_in_leaf=200\n",
      "[LightGBM] [Warning] min_data_in_leaf is set=200, min_child_samples=20 will be ignored. Current value: min_data_in_leaf=200\n",
      "[LightGBM] [Warning] min_data_in_leaf is set=200, min_child_samples=20 will be ignored. Current value: min_data_in_leaf=200\n",
      "[LightGBM] [Warning] min_data_in_leaf is set=200, min_child_samples=20 will be ignored. Current value: min_data_in_leaf=200\n",
      "[LightGBM] [Warning] min_data_in_leaf is set=200, min_child_samples=20 will be ignored. Current value: min_data_in_leaf=200\n",
      "[LightGBM] [Warning] min_data_in_leaf is set=200, min_child_samples=20 will be ignored. Current value: min_data_in_leaf=200\n",
      "[LightGBM] [Warning] min_data_in_leaf is set=300, min_child_samples=20 will be ignored. Current value: min_data_in_leaf=300\n",
      "[LightGBM] [Warning] min_data_in_leaf is set=300, min_child_samples=20 will be ignored. Current value: min_data_in_leaf=300\n",
      "[LightGBM] [Warning] min_data_in_leaf is set=300, min_child_samples=20 will be ignored. Current value: min_data_in_leaf=300\n",
      "[LightGBM] [Warning] min_data_in_leaf is set=300, min_child_samples=20 will be ignored. Current value: min_data_in_leaf=300\n",
      "[LightGBM] [Warning] min_data_in_leaf is set=300, min_child_samples=20 will be ignored. Current value: min_data_in_leaf=300\n"
     ]
    },
    {
     "name": "stdout",
     "output_type": "stream",
     "text": [
      "[LightGBM] [Warning] min_data_in_leaf is set=300, min_child_samples=20 will be ignored. Current value: min_data_in_leaf=300\n",
      "[LightGBM] [Warning] min_data_in_leaf is set=300, min_child_samples=20 will be ignored. Current value: min_data_in_leaf=300\n",
      "[LightGBM] [Warning] min_data_in_leaf is set=300, min_child_samples=20 will be ignored. Current value: min_data_in_leaf=300\n",
      "[LightGBM] [Warning] min_data_in_leaf is set=300, min_child_samples=20 will be ignored. Current value: min_data_in_leaf=300\n",
      "[LightGBM] [Warning] min_data_in_leaf is set=300, min_child_samples=20 will be ignored. Current value: min_data_in_leaf=300\n",
      "[LightGBM] [Warning] min_data_in_leaf is set=300, min_child_samples=20 will be ignored. Current value: min_data_in_leaf=300\n",
      "[LightGBM] [Warning] min_data_in_leaf is set=300, min_child_samples=20 will be ignored. Current value: min_data_in_leaf=300\n",
      "[LightGBM] [Warning] min_data_in_leaf is set=300, min_child_samples=20 will be ignored. Current value: min_data_in_leaf=300\n",
      "[LightGBM] [Warning] min_data_in_leaf is set=300, min_child_samples=20 will be ignored. Current value: min_data_in_leaf=300\n",
      "[LightGBM] [Warning] min_data_in_leaf is set=300, min_child_samples=20 will be ignored. Current value: min_data_in_leaf=300\n",
      "[LightGBM] [Warning] min_data_in_leaf is set=400, min_child_samples=20 will be ignored. Current value: min_data_in_leaf=400\n",
      "[LightGBM] [Warning] min_data_in_leaf is set=400, min_child_samples=20 will be ignored. Current value: min_data_in_leaf=400\n",
      "[LightGBM] [Warning] min_data_in_leaf is set=400, min_child_samples=20 will be ignored. Current value: min_data_in_leaf=400\n",
      "[LightGBM] [Warning] min_data_in_leaf is set=400, min_child_samples=20 will be ignored. Current value: min_data_in_leaf=400\n",
      "[LightGBM] [Warning] min_data_in_leaf is set=400, min_child_samples=20 will be ignored. Current value: min_data_in_leaf=400\n",
      "[LightGBM] [Warning] min_data_in_leaf is set=400, min_child_samples=20 will be ignored. Current value: min_data_in_leaf=400\n",
      "[LightGBM] [Warning] min_data_in_leaf is set=400, min_child_samples=20 will be ignored. Current value: min_data_in_leaf=400\n",
      "[LightGBM] [Warning] min_data_in_leaf is set=400, min_child_samples=20 will be ignored. Current value: min_data_in_leaf=400\n",
      "[LightGBM] [Warning] min_data_in_leaf is set=400, min_child_samples=20 will be ignored. Current value: min_data_in_leaf=400\n",
      "[LightGBM] [Warning] min_data_in_leaf is set=400, min_child_samples=20 will be ignored. Current value: min_data_in_leaf=400\n",
      "[LightGBM] [Warning] min_data_in_leaf is set=400, min_child_samples=20 will be ignored. Current value: min_data_in_leaf=400\n",
      "[LightGBM] [Warning] min_data_in_leaf is set=400, min_child_samples=20 will be ignored. Current value: min_data_in_leaf=400\n",
      "[LightGBM] [Warning] min_data_in_leaf is set=400, min_child_samples=20 will be ignored. Current value: min_data_in_leaf=400\n",
      "[LightGBM] [Warning] min_data_in_leaf is set=400, min_child_samples=20 will be ignored. Current value: min_data_in_leaf=400\n",
      "[LightGBM] [Warning] min_data_in_leaf is set=400, min_child_samples=20 will be ignored. Current value: min_data_in_leaf=400\n",
      "[LightGBM] [Warning] min_data_in_leaf is set=200, min_child_samples=20 will be ignored. Current value: min_data_in_leaf=200\n",
      "[LightGBM] [Warning] min_data_in_leaf is set=200, min_child_samples=20 will be ignored. Current value: min_data_in_leaf=200\n",
      "[LightGBM] [Warning] min_data_in_leaf is set=200, min_child_samples=20 will be ignored. Current value: min_data_in_leaf=200\n",
      "[LightGBM] [Warning] min_data_in_leaf is set=200, min_child_samples=20 will be ignored. Current value: min_data_in_leaf=200\n",
      "[LightGBM] [Warning] min_data_in_leaf is set=200, min_child_samples=20 will be ignored. Current value: min_data_in_leaf=200\n",
      "[LightGBM] [Warning] min_data_in_leaf is set=200, min_child_samples=20 will be ignored. Current value: min_data_in_leaf=200\n",
      "[LightGBM] [Warning] min_data_in_leaf is set=200, min_child_samples=20 will be ignored. Current value: min_data_in_leaf=200\n",
      "[LightGBM] [Warning] min_data_in_leaf is set=200, min_child_samples=20 will be ignored. Current value: min_data_in_leaf=200\n",
      "[LightGBM] [Warning] min_data_in_leaf is set=200, min_child_samples=20 will be ignored. Current value: min_data_in_leaf=200\n",
      "[LightGBM] [Warning] min_data_in_leaf is set=200, min_child_samples=20 will be ignored. Current value: min_data_in_leaf=200\n",
      "[LightGBM] [Warning] min_data_in_leaf is set=200, min_child_samples=20 will be ignored. Current value: min_data_in_leaf=200\n",
      "[LightGBM] [Warning] min_data_in_leaf is set=200, min_child_samples=20 will be ignored. Current value: min_data_in_leaf=200\n",
      "[LightGBM] [Warning] min_data_in_leaf is set=200, min_child_samples=20 will be ignored. Current value: min_data_in_leaf=200\n",
      "[LightGBM] [Warning] min_data_in_leaf is set=200, min_child_samples=20 will be ignored. Current value: min_data_in_leaf=200\n",
      "[LightGBM] [Warning] min_data_in_leaf is set=200, min_child_samples=20 will be ignored. Current value: min_data_in_leaf=200\n",
      "[LightGBM] [Warning] min_data_in_leaf is set=300, min_child_samples=20 will be ignored. Current value: min_data_in_leaf=300\n",
      "[LightGBM] [Warning] min_data_in_leaf is set=300, min_child_samples=20 will be ignored. Current value: min_data_in_leaf=300\n",
      "[LightGBM] [Warning] min_data_in_leaf is set=300, min_child_samples=20 will be ignored. Current value: min_data_in_leaf=300\n",
      "[LightGBM] [Warning] min_data_in_leaf is set=300, min_child_samples=20 will be ignored. Current value: min_data_in_leaf=300\n",
      "[LightGBM] [Warning] min_data_in_leaf is set=300, min_child_samples=20 will be ignored. Current value: min_data_in_leaf=300\n",
      "[LightGBM] [Warning] min_data_in_leaf is set=300, min_child_samples=20 will be ignored. Current value: min_data_in_leaf=300\n",
      "[LightGBM] [Warning] min_data_in_leaf is set=300, min_child_samples=20 will be ignored. Current value: min_data_in_leaf=300\n",
      "[LightGBM] [Warning] min_data_in_leaf is set=300, min_child_samples=20 will be ignored. Current value: min_data_in_leaf=300\n",
      "[LightGBM] [Warning] min_data_in_leaf is set=300, min_child_samples=20 will be ignored. Current value: min_data_in_leaf=300\n",
      "[LightGBM] [Warning] min_data_in_leaf is set=300, min_child_samples=20 will be ignored. Current value: min_data_in_leaf=300\n",
      "[LightGBM] [Warning] min_data_in_leaf is set=300, min_child_samples=20 will be ignored. Current value: min_data_in_leaf=300\n",
      "[LightGBM] [Warning] min_data_in_leaf is set=300, min_child_samples=20 will be ignored. Current value: min_data_in_leaf=300\n",
      "[LightGBM] [Warning] min_data_in_leaf is set=300, min_child_samples=20 will be ignored. Current value: min_data_in_leaf=300\n",
      "[LightGBM] [Warning] min_data_in_leaf is set=300, min_child_samples=20 will be ignored. Current value: min_data_in_leaf=300\n",
      "[LightGBM] [Warning] min_data_in_leaf is set=300, min_child_samples=20 will be ignored. Current value: min_data_in_leaf=300\n",
      "[LightGBM] [Warning] min_data_in_leaf is set=400, min_child_samples=20 will be ignored. Current value: min_data_in_leaf=400\n",
      "[LightGBM] [Warning] min_data_in_leaf is set=400, min_child_samples=20 will be ignored. Current value: min_data_in_leaf=400\n",
      "[LightGBM] [Warning] min_data_in_leaf is set=400, min_child_samples=20 will be ignored. Current value: min_data_in_leaf=400\n",
      "[LightGBM] [Warning] min_data_in_leaf is set=400, min_child_samples=20 will be ignored. Current value: min_data_in_leaf=400\n",
      "[LightGBM] [Warning] min_data_in_leaf is set=400, min_child_samples=20 will be ignored. Current value: min_data_in_leaf=400\n",
      "[LightGBM] [Warning] min_data_in_leaf is set=400, min_child_samples=20 will be ignored. Current value: min_data_in_leaf=400\n",
      "[LightGBM] [Warning] min_data_in_leaf is set=400, min_child_samples=20 will be ignored. Current value: min_data_in_leaf=400\n",
      "[LightGBM] [Warning] min_data_in_leaf is set=400, min_child_samples=20 will be ignored. Current value: min_data_in_leaf=400\n",
      "[LightGBM] [Warning] min_data_in_leaf is set=400, min_child_samples=20 will be ignored. Current value: min_data_in_leaf=400\n",
      "[LightGBM] [Warning] min_data_in_leaf is set=400, min_child_samples=20 will be ignored. Current value: min_data_in_leaf=400\n",
      "[LightGBM] [Warning] min_data_in_leaf is set=400, min_child_samples=20 will be ignored. Current value: min_data_in_leaf=400\n",
      "[LightGBM] [Warning] min_data_in_leaf is set=400, min_child_samples=20 will be ignored. Current value: min_data_in_leaf=400\n"
     ]
    },
    {
     "name": "stdout",
     "output_type": "stream",
     "text": [
      "[LightGBM] [Warning] min_data_in_leaf is set=400, min_child_samples=20 will be ignored. Current value: min_data_in_leaf=400\n",
      "[LightGBM] [Warning] min_data_in_leaf is set=400, min_child_samples=20 will be ignored. Current value: min_data_in_leaf=400\n",
      "[LightGBM] [Warning] min_data_in_leaf is set=400, min_child_samples=20 will be ignored. Current value: min_data_in_leaf=400\n",
      "[LightGBM] [Warning] min_data_in_leaf is set=300, min_child_samples=20 will be ignored. Current value: min_data_in_leaf=300\n"
     ]
    },
    {
     "data": {
      "text/plain": [
       "GridSearchCV(cv=3, estimator=LGBMClassifier(),\n",
       "             param_grid={'learning_rate': [0.05, 0.1, 0.2],\n",
       "                         'max_depth': [4, 6, 8],\n",
       "                         'min_data_in_leaf': [200, 300, 400],\n",
       "                         'num_leaves': [20, 40, 60, 80, 100]},\n",
       "             scoring='accuracy')"
      ]
     },
     "execution_count": 51,
     "metadata": {},
     "output_type": "execute_result"
    }
   ],
   "source": [
    "gridcv_lgb.fit(X_sm, y_sm)"
   ]
  },
  {
   "cell_type": "code",
   "execution_count": 52,
   "id": "731592f4",
   "metadata": {
    "colab": {
     "base_uri": "https://localhost:8080/",
     "height": 166
    },
    "id": "731592f4",
    "outputId": "e4753c38-4935-4ace-eb87-1f4b74bea45a"
   },
   "outputs": [
    {
     "data": {
      "text/html": [
       "<div>\n",
       "<style scoped>\n",
       "    .dataframe tbody tr th:only-of-type {\n",
       "        vertical-align: middle;\n",
       "    }\n",
       "\n",
       "    .dataframe tbody tr th {\n",
       "        vertical-align: top;\n",
       "    }\n",
       "\n",
       "    .dataframe thead th {\n",
       "        text-align: right;\n",
       "    }\n",
       "</style>\n",
       "<table border=\"1\" class=\"dataframe\">\n",
       "  <thead>\n",
       "    <tr style=\"text-align: right;\">\n",
       "      <th></th>\n",
       "      <th>params</th>\n",
       "      <th>mean_test_score</th>\n",
       "      <th>std_test_score</th>\n",
       "    </tr>\n",
       "  </thead>\n",
       "  <tbody>\n",
       "    <tr>\n",
       "      <th>0</th>\n",
       "      <td>{'learning_rate': 0.05, 'max_depth': 4, 'min_d...</td>\n",
       "      <td>0.886265</td>\n",
       "      <td>0.008841</td>\n",
       "    </tr>\n",
       "    <tr>\n",
       "      <th>1</th>\n",
       "      <td>{'learning_rate': 0.05, 'max_depth': 4, 'min_d...</td>\n",
       "      <td>0.886265</td>\n",
       "      <td>0.008841</td>\n",
       "    </tr>\n",
       "    <tr>\n",
       "      <th>2</th>\n",
       "      <td>{'learning_rate': 0.05, 'max_depth': 4, 'min_d...</td>\n",
       "      <td>0.886265</td>\n",
       "      <td>0.008841</td>\n",
       "    </tr>\n",
       "    <tr>\n",
       "      <th>3</th>\n",
       "      <td>{'learning_rate': 0.05, 'max_depth': 4, 'min_d...</td>\n",
       "      <td>0.886265</td>\n",
       "      <td>0.008841</td>\n",
       "    </tr>\n",
       "    <tr>\n",
       "      <th>4</th>\n",
       "      <td>{'learning_rate': 0.05, 'max_depth': 4, 'min_d...</td>\n",
       "      <td>0.886265</td>\n",
       "      <td>0.008841</td>\n",
       "    </tr>\n",
       "    <tr>\n",
       "      <th>...</th>\n",
       "      <td>...</td>\n",
       "      <td>...</td>\n",
       "      <td>...</td>\n",
       "    </tr>\n",
       "    <tr>\n",
       "      <th>130</th>\n",
       "      <td>{'learning_rate': 0.2, 'max_depth': 8, 'min_da...</td>\n",
       "      <td>0.948947</td>\n",
       "      <td>0.012594</td>\n",
       "    </tr>\n",
       "    <tr>\n",
       "      <th>131</th>\n",
       "      <td>{'learning_rate': 0.2, 'max_depth': 8, 'min_da...</td>\n",
       "      <td>0.957143</td>\n",
       "      <td>0.011977</td>\n",
       "    </tr>\n",
       "    <tr>\n",
       "      <th>132</th>\n",
       "      <td>{'learning_rate': 0.2, 'max_depth': 8, 'min_da...</td>\n",
       "      <td>0.960182</td>\n",
       "      <td>0.013227</td>\n",
       "    </tr>\n",
       "    <tr>\n",
       "      <th>133</th>\n",
       "      <td>{'learning_rate': 0.2, 'max_depth': 8, 'min_da...</td>\n",
       "      <td>0.960789</td>\n",
       "      <td>0.012587</td>\n",
       "    </tr>\n",
       "    <tr>\n",
       "      <th>134</th>\n",
       "      <td>{'learning_rate': 0.2, 'max_depth': 8, 'min_da...</td>\n",
       "      <td>0.961057</td>\n",
       "      <td>0.011751</td>\n",
       "    </tr>\n",
       "  </tbody>\n",
       "</table>\n",
       "<p>135 rows × 3 columns</p>\n",
       "</div>"
      ],
      "text/plain": [
       "                                                params  mean_test_score  \\\n",
       "0    {'learning_rate': 0.05, 'max_depth': 4, 'min_d...         0.886265   \n",
       "1    {'learning_rate': 0.05, 'max_depth': 4, 'min_d...         0.886265   \n",
       "2    {'learning_rate': 0.05, 'max_depth': 4, 'min_d...         0.886265   \n",
       "3    {'learning_rate': 0.05, 'max_depth': 4, 'min_d...         0.886265   \n",
       "4    {'learning_rate': 0.05, 'max_depth': 4, 'min_d...         0.886265   \n",
       "..                                                 ...              ...   \n",
       "130  {'learning_rate': 0.2, 'max_depth': 8, 'min_da...         0.948947   \n",
       "131  {'learning_rate': 0.2, 'max_depth': 8, 'min_da...         0.957143   \n",
       "132  {'learning_rate': 0.2, 'max_depth': 8, 'min_da...         0.960182   \n",
       "133  {'learning_rate': 0.2, 'max_depth': 8, 'min_da...         0.960789   \n",
       "134  {'learning_rate': 0.2, 'max_depth': 8, 'min_da...         0.961057   \n",
       "\n",
       "     std_test_score  \n",
       "0          0.008841  \n",
       "1          0.008841  \n",
       "2          0.008841  \n",
       "3          0.008841  \n",
       "4          0.008841  \n",
       "..              ...  \n",
       "130        0.012594  \n",
       "131        0.011977  \n",
       "132        0.013227  \n",
       "133        0.012587  \n",
       "134        0.011751  \n",
       "\n",
       "[135 rows x 3 columns]"
      ]
     },
     "execution_count": 52,
     "metadata": {},
     "output_type": "execute_result"
    }
   ],
   "source": [
    "pd.DataFrame(gridcv_lgb.cv_results_)[['params', 'mean_test_score', 'std_test_score']]"
   ]
  },
  {
   "cell_type": "code",
   "execution_count": 53,
   "id": "726d83f3",
   "metadata": {
    "id": "726d83f3"
   },
   "outputs": [
    {
     "data": {
      "text/plain": [
       "{'learning_rate': 0.2,\n",
       " 'max_depth': 8,\n",
       " 'min_data_in_leaf': 300,\n",
       " 'num_leaves': 100}"
      ]
     },
     "execution_count": 53,
     "metadata": {},
     "output_type": "execute_result"
    }
   ],
   "source": [
    "gridcv_lgb.best_params_"
   ]
  },
  {
   "cell_type": "code",
   "execution_count": 54,
   "id": "005c647c",
   "metadata": {
    "id": "005c647c"
   },
   "outputs": [],
   "source": [
    "pred_lgb=gridcv_lgb.predict(X_test)"
   ]
  },
  {
   "cell_type": "code",
   "execution_count": 55,
   "id": "4ec22cbe",
   "metadata": {
    "id": "4ec22cbe",
    "outputId": "b82cdf48-dc45-4f2d-cd7e-691241048e2d"
   },
   "outputs": [
    {
     "name": "stdout",
     "output_type": "stream",
     "text": [
      "Test set score: 0.9606\n"
     ]
    }
   ],
   "source": [
    "print('Test set score: {:.4f}'.format(accuracy_score(y_test, pred_lgb)))"
   ]
  },
  {
   "cell_type": "code",
   "execution_count": 56,
   "id": "57330669",
   "metadata": {
    "id": "57330669",
    "outputId": "e1ab1142-52a5-4a3d-eb96-dbb9b34e80b3"
   },
   "outputs": [
    {
     "name": "stdout",
     "output_type": "stream",
     "text": [
      "Classication report for lightgbm: \n",
      "\n",
      "              precision    recall  f1-score   support\n",
      "\n",
      "           0       0.98      0.98      0.98    142484\n",
      "           1       0.44      0.50      0.47      5151\n",
      "\n",
      "    accuracy                           0.96    147635\n",
      "   macro avg       0.71      0.74      0.72    147635\n",
      "weighted avg       0.96      0.96      0.96    147635\n",
      "\n"
     ]
    }
   ],
   "source": [
    "from sklearn.metrics import classification_report\n",
    "print(\"Classication report for lightgbm: \\n\")\n",
    "print(classification_report(y_test, pred_lgb))"
   ]
  },
  {
   "cell_type": "code",
   "execution_count": 57,
   "id": "b027b55b",
   "metadata": {},
   "outputs": [
    {
     "name": "stdout",
     "output_type": "stream",
     "text": [
      "                   pre       rec       spe        f1       geo       iba       sup\n",
      "\n",
      "          0       0.98      0.98      0.50      0.98      0.70      0.51    142484\n",
      "          1       0.44      0.50      0.98      0.47      0.70      0.46      5151\n",
      "\n",
      "avg / total       0.96      0.96      0.51      0.96      0.70      0.51    147635\n",
      "\n"
     ]
    }
   ],
   "source": [
    "#classification_report_imbalanced\n",
    "#Output: precision, recall, specificity, geometric mean, and index balanced accuracy\n",
    "print(classification_report_imbalanced(y_test, pred_lgb))"
   ]
  },
  {
   "cell_type": "code",
   "execution_count": null,
   "id": "a1abd0e5",
   "metadata": {},
   "outputs": [],
   "source": [
    "\n",
    "lgb_gmean = geometric_mean_score(y_test, pred_lgb, average='micro')"
   ]
  },
  {
   "cell_type": "markdown",
   "id": "7963bc3b",
   "metadata": {
    "id": "7963bc3b"
   },
   "source": [
    "**Confusion Matrix**"
   ]
  },
  {
   "cell_type": "code",
   "execution_count": 58,
   "id": "cb87074a",
   "metadata": {
    "id": "cb87074a"
   },
   "outputs": [],
   "source": [
    "from sklearn.metrics import confusion_matrix\n",
    "cm = confusion_matrix(y_test, y_pred)"
   ]
  },
  {
   "cell_type": "code",
   "execution_count": 59,
   "id": "c64c1a71",
   "metadata": {
    "id": "c64c1a71",
    "outputId": "c35794c0-0048-42f8-8adb-29489df5a782"
   },
   "outputs": [
    {
     "name": "stdout",
     "output_type": "stream",
     "text": [
      "Confusion matrix\n",
      "\n",
      " [[137640   4844]\n",
      " [  2674   2477]]\n",
      "\n",
      "True Positives(TP) =  137640\n",
      "\n",
      "True Negatives(TN) =  2477\n",
      "\n",
      "False Positives(FP) =  4844\n",
      "\n",
      "False Negatives(FN) =  2674\n"
     ]
    }
   ],
   "source": [
    "print('Confusion matrix\\n\\n', cm)\n",
    "print('\\nTrue Positives(TP) = ', cm[0,0])\n",
    "print('\\nTrue Negatives(TN) = ', cm[1,1])\n",
    "print('\\nFalse Positives(FP) = ', cm[0,1])\n",
    "print('\\nFalse Negatives(FN) = ', cm[1,0])"
   ]
  },
  {
   "cell_type": "markdown",
   "id": "f5a04e89",
   "metadata": {
    "id": "f5a04e89"
   },
   "source": [
    "**2- LogisticRegression, RandomForest and SVC**"
   ]
  },
  {
   "cell_type": "code",
   "execution_count": 60,
   "id": "52946467",
   "metadata": {
    "id": "52946467"
   },
   "outputs": [],
   "source": [
    "clf_lr = LogisticRegression(random_state=22, max_iter=1000)\n",
    "clf_rf = RandomForestClassifier(random_state=22)\n",
    "clf_svc = SVC(random_state=22)\n",
    "\n",
    "\n",
    "param_grid_lr = {'solver': ['liblinear', 'lbfgs'], 'C': np.logspace(-1, 1, 4)}\n",
    "\n",
    "param_grid_rf = [{'n_estimators': [10, 50, 100], \n",
    "                  'min_samples_leaf': [1, 3, 5], \n",
    "                  'max_features': ['sqrt', 'log2']}]\n",
    "\n",
    "param_grid_svc = [{'kernel': ['rbf'], 'C': [1,10,100], 'gamma': [1, 0.1, 0.01, 0.001]},\n",
    "                  {'kernel': ['linear'], 'C': [1,10,100]}]"
   ]
  },
  {
   "cell_type": "code",
   "execution_count": 61,
   "id": "3d1d43f3",
   "metadata": {
    "id": "3d1d43f3"
   },
   "outputs": [],
   "source": [
    "gridcvs ={}\n",
    "\n",
    "for pgrid, clf, name in zip((param_grid_lr, param_grid_rf, param_grid_svc),\n",
    "                            (clf_lr, clf_rf, clf_svc),\n",
    "                            ('LogisticRegression', 'RF', 'SVM')):\n",
    "    gcv = GridSearchCV(clf, pgrid, cv=3, refit=True)\n",
    "    gridcvs[name] = gcv"
   ]
  },
  {
   "cell_type": "code",
   "execution_count": null,
   "id": "a54af0d7",
   "metadata": {
    "id": "a54af0d7",
    "outputId": "7c9df959-de89-4d91-b5e8-6b16357e8d57"
   },
   "outputs": [],
   "source": [
    "outer_cv = StratifiedKFold(n_splits=3, shuffle=True)\n",
    "outer_scores = {}\n",
    "\n",
    "for name, gs in gridcvs.items():\n",
    "    nested_score = cross_val_score(gs, X_sm, y_sm, cv=outer_cv)\n",
    "    outer_scores[name] = nested_score\n",
    "    print(f'{name}: outer accuracy {100*nested_score.mean():.2f} +/- {100*nested_score.std():.2f}')"
   ]
  },
  {
   "cell_type": "code",
   "execution_count": null,
   "id": "212b81e4",
   "metadata": {
    "id": "212b81e4",
    "outputId": "f47cc788-a59a-45d6-d815-d91197c63458"
   },
   "outputs": [],
   "source": [
    "svc_accuracy = gridcvs['SVM'].fit(X_sm, y_sm).score(X_test, y_test)\n",
    "final_svc = gridcvs['SVM']\n",
    "final_svc.fit(X_sm, y_sm)\n",
    "\n",
    "print(\"Classication report for SVC: \\n\")\n",
    "print(classification_report(y_test, final_svc.predict(X_test)))"
   ]
  },
  {
   "cell_type": "code",
   "execution_count": null,
   "id": "118c16af",
   "metadata": {},
   "outputs": [],
   "source": [
    "#classification_report_imbalanced\n",
    "#Output: precision, recall, specificity, geometric mean, and index balanced accuracy\n",
    "print(classification_report_imbalanced(y_test, final_svc.predict(X_test)))"
   ]
  },
  {
   "cell_type": "code",
   "execution_count": null,
   "id": "e50d48b9",
   "metadata": {
    "id": "e50d48b9",
    "outputId": "976f6391-7b0a-4849-fd0a-ad1f9545e108"
   },
   "outputs": [],
   "source": [
    "lr_accuracy = gridcvs['LogisticRegression'].fit(X_sm, y_sm).score(X_test, y_test)\n",
    "final_lr = gridcvs['LogisticRegression']\n",
    "final_lr.fit(X_sm, y_sm)\n",
    "\n",
    "print(\"Classication report for Logistic Regression: \\n\")\n",
    "print(classification_report(y_test, final_lr.predict(X_test)))"
   ]
  },
  {
   "cell_type": "code",
   "execution_count": null,
   "id": "92dc7999",
   "metadata": {},
   "outputs": [],
   "source": [
    "#classification_report_imbalanced\n",
    "#Output: precision, recall, specificity, geometric mean, and index balanced accuracy\n",
    "print(classification_report_imbalanced(y_test, final_lr.predict(X_test)))"
   ]
  },
  {
   "cell_type": "code",
   "execution_count": null,
   "id": "5347367f",
   "metadata": {
    "id": "5347367f",
    "outputId": "211015fb-18aa-475f-a83d-5fdfd11c1f1c"
   },
   "outputs": [],
   "source": [
    "final_clf = gridcvs['RF']\n",
    "final_clf.fit(X_sm, y_sm)\n",
    "\n",
    "print(f'Best Parameters: {final_clf.best_params_}')\n",
    "\n",
    "train_rf_acc = accuracy_score(y_true=y_sm, y_pred=final_clf.predict(X_sm))\n",
    "test_rf_acc = accuracy_score(y_true=y_test, y_pred=final_clf.predict(X_test))\n",
    "\n",
    "print(f'Training Accuracy: {100*train_rf_acc:.2f}')\n",
    "print(f'Test Accuracy: {100*test_rf_acc:.2f}')"
   ]
  },
  {
   "cell_type": "code",
   "execution_count": null,
   "id": "e1b76adf",
   "metadata": {
    "id": "e1b76adf",
    "outputId": "f5a5e24a-af34-475a-edd8-e49d8fb89565"
   },
   "outputs": [],
   "source": [
    "print(\"Classication report for random forest: \\n\")\n",
    "print(classification_report(y_test, final_clf.predict(X_test)))"
   ]
  },
  {
   "cell_type": "code",
   "execution_count": null,
   "id": "53c9161c",
   "metadata": {},
   "outputs": [],
   "source": [
    "#classification_report_imbalanced\n",
    "#Output: precision, recall, specificity, geometric mean, and index balanced accuracy\n",
    "print(classification_report_imbalanced(y_test, final_clf.predict(X_test)))"
   ]
  },
  {
   "cell_type": "markdown",
   "id": "a856e3fd",
   "metadata": {},
   "source": [
    "**Note:** Nous allons sélectionner et entraîner le meilleur algorithme, celui avec le plus haut taux de précision moyenne et le plus faible écart-type"
   ]
  },
  {
   "cell_type": "markdown",
   "id": "8382dfba",
   "metadata": {
    "id": "8382dfba"
   },
   "source": [
    "**3- StackingClassifier**"
   ]
  },
  {
   "cell_type": "code",
   "execution_count": null,
   "id": "f3aac1bb",
   "metadata": {
    "id": "f3aac1bb",
    "outputId": "02b0d883-634e-4516-dc8c-d91b1a654112"
   },
   "outputs": [],
   "source": [
    "cv3 = KFold(n_splits=3, random_state=111, shuffle = True)\n",
    "\n",
    "sclf = StackingClassifier(estimators=[('LR', clf_lr), ('rf', clf_rf), ('svc', clf_svc)], \n",
    "                          final_estimator= clf_svc)\n",
    "\n",
    "scores = cross_validate(sclf, X_sm, y_sm, \n",
    "                                              cv=cv3, scoring=['accuracy','f1'])\n",
    "print(\"[StackingClassifier]: \\n Accuracy: %0.2f (+/- %0.2f)\\n\" \n",
    "      % (scores['test_accuracy'].mean(), scores['test_accuracy'].std()),\n",
    "      \"F1 score: %0.2f (+/- %0.2f)\"\n",
    "      % (scores['test_f1'].mean(), scores['test_f1'].std()))\n"
   ]
  },
  {
   "cell_type": "code",
   "execution_count": null,
   "id": "2567cbf8",
   "metadata": {
    "id": "2567cbf8",
    "outputId": "7f11dd55-6f8b-4107-acb4-f65181a33681"
   },
   "outputs": [],
   "source": [
    "sclf_accuracy = sclf.fit(X_sm, y_sm).score(X_test, y_test)"
   ]
  },
  {
   "cell_type": "code",
   "execution_count": null,
   "id": "1446f518",
   "metadata": {
    "id": "1446f518",
    "outputId": "1fb8427c-cf81-4e67-8d1d-d778963e2168"
   },
   "outputs": [],
   "source": [
    "sclf_accuracy"
   ]
  },
  {
   "cell_type": "code",
   "execution_count": null,
   "id": "56a7d585",
   "metadata": {
    "id": "56a7d585",
    "outputId": "b3a49e1d-5ff4-438c-db8e-75b561b67ec0"
   },
   "outputs": [],
   "source": [
    "print(\"Classication report for StackingClassifier : \\n\")\n",
    "print(classification_report(y_test, sclf.predict(X_test)))"
   ]
  },
  {
   "cell_type": "code",
   "execution_count": null,
   "id": "e2cbd71e",
   "metadata": {},
   "outputs": [],
   "source": [
    "#classification_report_imbalanced\n",
    "#Output: precision, recall, specificity, geometric mean, and index balanced accuracy\n",
    "print(classification_report_imbalanced(y_test, sclf.predict(X_test)))"
   ]
  },
  {
   "cell_type": "markdown",
   "id": "19b48a12",
   "metadata": {
    "id": "19b48a12"
   },
   "source": [
    "**Comparaison des accuracy**"
   ]
  },
  {
   "cell_type": "code",
   "execution_count": null,
   "id": "192986a3",
   "metadata": {
    "id": "192986a3",
    "outputId": "a781c8f9-0cf6-41fe-9fe4-903affd9f4f2"
   },
   "outputs": [],
   "source": [
    "data = {'Accuracy': [accuracy_LightGBM,lr_accuracy,test_rf_acc,svc_accuracy,sclf_accuracy]}\n",
    "df_acc = pd.DataFrame(data,columns=['Accuracy'], index = ['LightGBM','Logistic Regression','RandomForestClassifier','SVC','StackingClassifier'])\n",
    "\n",
    "df_acc.plot.barh()\n",
    "\n",
    "plt.title('Accuracy comparison')\n",
    "plt.ylabel('Model')\n",
    "plt.xlabel('Accuracy')\n",
    "plt.show()"
   ]
  },
  {
   "cell_type": "markdown",
   "id": "8f12b356",
   "metadata": {
    "id": "8f12b356"
   },
   "source": [
    "**Note:** Nous constatons que les scores sont presque tous identiques"
   ]
  },
  {
   "cell_type": "markdown",
   "id": "zf52p8gsd05P",
   "metadata": {
    "id": "zf52p8gsd05P"
   },
   "source": [
    "# B- Aprrentissage non supervisé"
   ]
  },
  {
   "cell_type": "markdown",
   "id": "eb12c2dd",
   "metadata": {
    "id": "eb12c2dd"
   },
   "source": [
    "**1- Isolation forest**"
   ]
  },
  {
   "cell_type": "code",
   "execution_count": null,
   "id": "fa8407e7",
   "metadata": {
    "id": "fa8407e7"
   },
   "outputs": [],
   "source": [
    "from sklearn.ensemble import IsolationForest"
   ]
  },
  {
   "cell_type": "code",
   "execution_count": null,
   "id": "2f7326a4",
   "metadata": {
    "id": "2f7326a4",
    "outputId": "771fa662-4f8c-44be-e912-14e7e27ccae1"
   },
   "outputs": [],
   "source": [
    "clf_isolation=IsolationForest(n_estimators=50, max_samples='auto', contamination=float(0.01),max_features=1.0)\n",
    "clf_isolation.fit(X_sm)"
   ]
  },
  {
   "cell_type": "code",
   "execution_count": null,
   "id": "2f63d265",
   "metadata": {
    "id": "2f63d265",
    "outputId": "b77548c9-8740-42b7-dfc8-34eb73534cb1"
   },
   "outputs": [],
   "source": [
    "plt.scatter(X_sm[:,0],X_sm[:,1], c=clf_isolation.predict(X_sm))"
   ]
  },
  {
   "cell_type": "code",
   "execution_count": null,
   "id": "9ab53035",
   "metadata": {
    "id": "9ab53035",
    "outputId": "a95295e6-ca89-426f-8979-912acc42ac01"
   },
   "outputs": [],
   "source": [
    "data = {'Score':clf_isolation.decision_function(X_sm), 'Anomaly':clf_isolation.predict(X_sm)}  \n",
    "dfIso = pd.DataFrame(data)  \n",
    "dfIso.head(20)"
   ]
  },
  {
   "cell_type": "code",
   "execution_count": null,
   "id": "6207ea53",
   "metadata": {
    "id": "6207ea53",
    "outputId": "adf798d1-d81d-49f5-8200-689ea7da5c89"
   },
   "outputs": [],
   "source": [
    "test_data =np.array(y_test)\n",
    "dfPred = pd.DataFrame({ 'Pred': clf_isolation.predict(X_test)}, columns=['Pred'])\n",
    "#1: fraudulent transaction. 0: normal transaction\n",
    "dfPred[\"Pred\"].replace({\"-1\": \"1\", \"1\": \"0\"}, inplace=True)\n",
    "dfPred.head()"
   ]
  },
  {
   "cell_type": "code",
   "execution_count": null,
   "id": "b110d8cb",
   "metadata": {
    "id": "b110d8cb"
   },
   "outputs": [],
   "source": [
    "dfPred['Real'] = test_data"
   ]
  },
  {
   "cell_type": "code",
   "execution_count": null,
   "id": "36d228e6",
   "metadata": {
    "id": "36d228e6",
    "outputId": "dc94ff52-2760-4868-88eb-66eaf6048b25"
   },
   "outputs": [],
   "source": [
    "dfPred.head()"
   ]
  },
  {
   "cell_type": "code",
   "execution_count": null,
   "id": "3d5cbf69",
   "metadata": {
    "id": "3d5cbf69",
    "outputId": "7228b2aa-e49f-4c85-ddc7-73cd82f621bb"
   },
   "outputs": [],
   "source": [
    "test_data.shape"
   ]
  },
  {
   "cell_type": "code",
   "execution_count": null,
   "id": "aaede49b",
   "metadata": {
    "id": "aaede49b",
    "outputId": "d9b7bb6a-6270-4b08-b7f6-3185ec72c7f4"
   },
   "outputs": [],
   "source": [
    "y_test"
   ]
  },
  {
   "cell_type": "code",
   "execution_count": null,
   "id": "dcdb5598",
   "metadata": {
    "id": "dcdb5598"
   },
   "outputs": [],
   "source": [
    "dfPred['Real'] = dfPred['Real'].replace([1,-1],[0,1])\n"
   ]
  },
  {
   "cell_type": "code",
   "execution_count": null,
   "id": "8679ced2",
   "metadata": {
    "id": "8679ced2",
    "outputId": "eecf500d-e2e3-4d83-e739-dc853d5928db"
   },
   "outputs": [],
   "source": [
    "dfPred.value_counts()"
   ]
  },
  {
   "cell_type": "code",
   "execution_count": null,
   "id": "15a6f9ea",
   "metadata": {
    "id": "15a6f9ea",
    "outputId": "1a797877-264c-4a96-914d-755a9e2fbd2f"
   },
   "outputs": [],
   "source": [
    "print(\"Classication report for isolation forest: \\n\")\n",
    "print(classification_report(y_test, clf_isolation.predict(X_test)))"
   ]
  },
  {
   "cell_type": "code",
   "execution_count": null,
   "id": "8085aba6",
   "metadata": {},
   "outputs": [],
   "source": [
    "#classification_report_imbalanced\n",
    "#Output: precision, recall, specificity, geometric mean, and index balanced accuracy\n",
    "print(classification_report_imbalanced(y_test, clf_isolation.predict(X_test)))"
   ]
  },
  {
   "cell_type": "markdown",
   "id": "620929e7",
   "metadata": {
    "id": "620929e7"
   },
   "source": [
    " **2- Elliptic envelope**\n"
   ]
  },
  {
   "cell_type": "code",
   "execution_count": null,
   "id": "886517b3",
   "metadata": {
    "id": "886517b3"
   },
   "outputs": [],
   "source": [
    "from sklearn.covariance import EllipticEnvelope"
   ]
  },
  {
   "cell_type": "code",
   "execution_count": null,
   "id": "b2c647f3",
   "metadata": {
    "id": "b2c647f3",
    "outputId": "50132cb7-6146-44fc-817e-dd77363bf229"
   },
   "outputs": [],
   "source": [
    "clf_elliptic=EllipticEnvelope(contamination=0.03)\n",
    "clf_elliptic.fit(X_sm)"
   ]
  },
  {
   "cell_type": "code",
   "execution_count": null,
   "id": "e9a083c7",
   "metadata": {
    "id": "e9a083c7",
    "outputId": "2508559d-fb6d-420b-9f9e-c38d8831b187"
   },
   "outputs": [],
   "source": [
    "plt.scatter(X_sm[:,0],X_sm[:,1], c=clf_elliptic.predict(X_sm))\n",
    "plt.show()"
   ]
  },
  {
   "cell_type": "code",
   "execution_count": null,
   "id": "7c1ec4a2",
   "metadata": {
    "id": "7c1ec4a2",
    "outputId": "881ac6b9-80c3-44b8-e741-0d5d7daa28e3"
   },
   "outputs": [],
   "source": [
    "data_ = {'Score':clf_elliptic.decision_function(X_sm), 'Anomaly':clf_elliptic.predict(X_sm)}  \n",
    "dfEl = pd.DataFrame(data)  \n",
    "dfEl.head()"
   ]
  },
  {
   "cell_type": "code",
   "execution_count": null,
   "id": "27522b5a",
   "metadata": {
    "id": "27522b5a",
    "outputId": "2d7b6ba9-d957-4429-8815-57f63e70a039"
   },
   "outputs": [],
   "source": [
    "dfPred_el = pd.DataFrame({ 'Pred': clf_elliptic.predict(X_test)}, columns=['Pred'])\n",
    "\n",
    "\n",
    "dfPred_el['Real'] = test_data\n",
    "\n",
    "dfPred_el.head()"
   ]
  },
  {
   "cell_type": "code",
   "execution_count": null,
   "id": "b2006c28",
   "metadata": {
    "id": "b2006c28",
    "outputId": "3525fb2e-a0af-47d3-b342-f155c54a80d1"
   },
   "outputs": [],
   "source": [
    "print(\"Classication report for isolation forest: \\n\")\n",
    "print(classification_report(y_test, clf_elliptic.predict(X_test)))"
   ]
  },
  {
   "cell_type": "code",
   "execution_count": null,
   "id": "96e17172",
   "metadata": {},
   "outputs": [],
   "source": [
    "#classification_report_imbalanced\n",
    "#Output: precision, recall, specificity, geometric mean, and index balanced accuracy\n",
    "print(classification_report_imbalanced(y_test, clf_elliptic.predict(X_test)))"
   ]
  },
  {
   "cell_type": "markdown",
   "id": "86NTTZy5dfo1",
   "metadata": {
    "id": "86NTTZy5dfo1"
   },
   "source": [
    "# **C- Compraison des performances**"
   ]
  },
  {
   "cell_type": "code",
   "execution_count": null,
   "id": "UMg5gxrwddz1",
   "metadata": {
    "id": "UMg5gxrwddz1"
   },
   "outputs": [],
   "source": [
    "# initialize list of lists\n",
    "data = [['XX', 'XX', 'XX', 'XX'], ['XX', 'XX', 'XX', 'XX'], ['XX', 'XX', 'XX', 'XX'], ['XX', 'XX', 'XX', 'XX']]\n",
    " \n",
    "# Create the pandas DataFrame\n",
    "df = pd.DataFrame(data, columns=['Lightgbm', 'StackingClassifier', 'Isolation forest', 'Elliptic envelope'], index=['Gmean', 'F-score', 'Precision', 'Recall']))"
   ]
  },
  {
   "cell_type": "markdown",
   "id": "c07ae037",
   "metadata": {
    "id": "c07ae037"
   },
   "source": [
    "# **3- Sauvegarde du model**"
   ]
  },
  {
   "cell_type": "code",
   "execution_count": null,
   "id": "f58eb0ac",
   "metadata": {
    "id": "f58eb0ac"
   },
   "outputs": [],
   "source": [
    "from joblib import dump, load\n",
    "import joblib"
   ]
  },
  {
   "cell_type": "code",
   "execution_count": null,
   "id": "7f650dd5",
   "metadata": {
    "id": "7f650dd5"
   },
   "outputs": [],
   "source": [
    "# save the model to disk"
   ]
  },
  {
   "cell_type": "code",
   "execution_count": null,
   "id": "26743211",
   "metadata": {
    "id": "26743211",
    "outputId": "a1dee618-11e8-415d-96dc-c2e9a584fee6"
   },
   "outputs": [],
   "source": [
    "filename = 'finalized_model.sav'\n",
    "joblib.dump(sclf, filename)\n"
   ]
  },
  {
   "cell_type": "code",
   "execution_count": null,
   "id": "38bf7320",
   "metadata": {
    "id": "38bf7320"
   },
   "outputs": [],
   "source": [
    " # load the model from disk"
   ]
  },
  {
   "cell_type": "code",
   "execution_count": null,
   "id": "c49fb1f6",
   "metadata": {
    "id": "c49fb1f6",
    "outputId": "555cacd8-b3a6-43ea-9aae-28d0a45aed49"
   },
   "outputs": [],
   "source": [
    "loaded_model = joblib.load(filename)\n",
    "result = loaded_model.score(X_test, y_test)\n",
    "print(result)"
   ]
  },
  {
   "cell_type": "code",
   "execution_count": null,
   "id": "7ea187c3",
   "metadata": {
    "id": "7ea187c3"
   },
   "outputs": [],
   "source": []
  },
  {
   "cell_type": "code",
   "execution_count": null,
   "id": "7805885f",
   "metadata": {},
   "outputs": [],
   "source": []
  },
  {
   "cell_type": "code",
   "execution_count": null,
   "id": "6e49a67f",
   "metadata": {},
   "outputs": [],
   "source": [
    "\n",
    "Notebook(Block de text)\n",
    "Metrics (F1 score et Gmean)"
   ]
  }
 ],
 "metadata": {
  "accelerator": "GPU",
  "colab": {
   "name": "Fraud_detection.ipynb",
   "provenance": [],
   "toc_visible": true
  },
  "kernelspec": {
   "display_name": "Python 3 (ipykernel)",
   "language": "python",
   "name": "python3"
  },
  "language_info": {
   "codemirror_mode": {
    "name": "ipython",
    "version": 3
   },
   "file_extension": ".py",
   "mimetype": "text/x-python",
   "name": "python",
   "nbconvert_exporter": "python",
   "pygments_lexer": "ipython3",
   "version": "3.9.7"
  }
 },
 "nbformat": 4,
 "nbformat_minor": 5
}
